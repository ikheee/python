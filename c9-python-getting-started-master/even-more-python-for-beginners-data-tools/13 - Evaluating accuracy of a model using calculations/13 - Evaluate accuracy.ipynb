{
 "cells": [
  {
   "cell_type": "markdown",
   "metadata": {},
   "source": [
    "# 모델의 정확도(accuracy) 평가(evaluating)\n",
    "모델을 트레이닝 한 후에는 모델의 accuracy를 파악해야합니다. 모델의 accuracy는, 모델에 의한 예측을 얼마나 확신(confidence) 할 수 있는지에 대한 정보를 제공합니다.\n",
    "\n",
    "**scitkit-learn** 및 **numpy** 라이브러리는 모델 accuracy 측정에 유용합니다.\n"
   ]
  },
  {
   "cell_type": "markdown",
   "metadata": {},
   "source": [
    "지금까지 트레이닝 된 linear regression 모델을 다시 생성합니다.\n"
   ]
  },
  {
   "cell_type": "code",
   "execution_count": 1,
   "metadata": {},
   "outputs": [],
   "source": [
    "import pandas as pd\n",
    "from sklearn.model_selection import train_test_split\n",
    "from sklearn.linear_model import LinearRegression"
   ]
  },
  {
   "cell_type": "code",
   "execution_count": 2,
   "metadata": {},
   "outputs": [],
   "source": [
    "# CSV 파일에서 데이터를 로드\n",
    "delays_df = pd.read_csv('Lots_of_flight_data.csv') \n",
    "\n",
    "# null값을 제거 - null값이 있으면 트레이닝 과정에서 문제를 유발할 수 있습니다.\n",
    "delays_df.dropna(inplace=True)\n",
    "\n",
    "# Feature column들을 X DataFrame으로 이동\n",
    "X = delays_df.loc[:,['DISTANCE', 'CRS_ELAPSED_TIME']]\n",
    "\n",
    "# Labe column을 y DataFrame으로 이동\n",
    "y = delays_df.loc[:,['ARR_DELAY']] \n",
    "\n",
    "# 데이터를 트레이닝 데이터셋과 테스트 데이터셋으로 분리 \n",
    "X_train, X_test, y_train, y_test = train_test_split(\n",
    "                                                    X, \n",
    "                                                    y, \n",
    "                                                    test_size=0.3, \n",
    "                                                    random_state=42\n",
    "                                                   )\n",
    "\n",
    "regressor = LinearRegression()     # scikit learn LinearRegression 개체 생성\n",
    "regressor.fit(X_train, y_train)    # fit 메서드를 사용해 모델 트레이닝 실행\n",
    "\n",
    "y_pred = regressor.predict(X_test)"
   ]
  },
  {
   "cell_type": "markdown",
   "metadata": {},
   "source": [
    "## Accuracy 측정\n",
    "트레이닝 된 모델이 있으므로 모델의 accuracy를 확인하는데 사용할 수 있는, 여러 메트릭(metric)이 있습니다.\n",
    "\n",
    "이 메트릭 항목은 모두 수학적 계산을 수행합니다. 여기서 중요한 점은 모든 것을 우리가 직접 계산할 필요가 없다는 것입니다. Scikit-learn과 numpy는 대부분의 작업을 대신 수행합니다.\n"
   ]
  },
  {
   "cell_type": "markdown",
   "metadata": {},
   "source": [
    "### Mean Squared Error(평균 제곱 오차 - MSE)\n",
    "MSE는 결과를 예측할 때 모델이 수행 한 Mean Squared Error입니다.\n",
    "MSE가 낮을수록 좋은 모델입니다.\n",
    "\n",
    "MSE는 실제 label 값과 모델에서 predict 한 값 간의 Mean Squared 차이 입니다.\n",
    "\n",
    "MSE = mean((label값-예측값)^2)\n",
    "\n",
    "이 계산을 수행하기 위해 label 값과 precit 값을 반복 비교하는 코드를 작성할 수 있지만, 전혀 그럴 필요는 없습니다! **scikit-learn** 라이브러리에서 **mean_squared_error**를 사용하면 됩니다.\n"
   ]
  },
  {
   "cell_type": "code",
   "execution_count": 3,
   "metadata": {},
   "outputs": [
    {
     "output_type": "stream",
     "name": "stdout",
     "text": [
      "Mean Squared Error: 2250.4445141530855\n"
     ]
    }
   ],
   "source": [
    "from sklearn import metrics\n",
    "print('Mean Squared Error:', metrics.mean_squared_error(y_test, y_pred))"
   ]
  },
  {
   "cell_type": "markdown",
   "metadata": {},
   "source": [
    "## Root Mean Squared Error(평균 제곱근 오차 - RMSE)\n",
    "RMSE는 결과를 예측할 때 모델에서 수행 한 average error 입니다.\n",
    "RMSE가 낮을수록 좋은 모델입니다.\n",
    "\n",
    "수학적으로 RMSE는 Root Mean Squared 차이 입니다.\n",
    "\n",
    "RMSE = sqrt(MSE)\n",
    "\n",
    "Skikit learn에는 RMSE에 대한 함수가 없지만 MSE의 제곱근(square root)이기 때문에, 많은 수학적 함수가 포함 된 numpy 라이브러리를 사용하여 MSE의 제곱근을 쉽게 계산할 수 있습니다."
   ]
  },
  {
   "cell_type": "code",
   "execution_count": null,
   "metadata": {},
   "outputs": [],
   "source": [
    "import numpy as np\n",
    "print('Root Mean Squared Error:', np.sqrt(metrics.mean_squared_error(y_test, y_pred)))"
   ]
  },
  {
   "cell_type": "markdown",
   "metadata": {},
   "source": [
    "## Mean Absolute Error(평균 절대 오차 - MAE)\n",
    "MAE는 예측 오류(predict error)를 측정합니다. MAE가 낮을수록 좋은 모델입니다.\n",
    "\n",
    "Label 값과 예측 된 결과의 average absolute 차이입니다.\n",
    "\n",
    "MAE = mean(abs(label값-예측값))\n",
    "\n",
    "MAE는 RMSE에 비해 특이값(outliers)에 덜 민감합니다. **scikit-learn** 라이브러리에서 **mean_absolute_error**를 사용하여 RMSE를 계산합니다.\n",
    "\n"
   ]
  },
  {
   "cell_type": "code",
   "execution_count": 4,
   "metadata": {},
   "outputs": [
    {
     "output_type": "stream",
     "name": "stdout",
     "text": [
      "Mean absolute error:  23.089633633818547\n"
     ]
    }
   ],
   "source": [
    "print('Mean absolute error: ',metrics.mean_absolute_error(y_test, y_pred))"
   ]
  },
  {
   "cell_type": "markdown",
   "metadata": {},
   "source": [
    "# R^2 또는 R-Squared(제곱)\n",
    "\n",
    "R Squared는 predict variable로 설명되는 결과의 변동 비율(proportion of variation)입니다. 모델에 전달 된 값이 예측 값에 얼마나 영향을 미치는지를 나타냅니다.\n",
    "\n",
    "R-Squared가 높을수록 모델이 더 좋습니다. **scikit-learn** 라이브러리에서 **r2_score**를 사용하여 R-Squared를 계산합니다.\n"
   ]
  },
  {
   "cell_type": "code",
   "execution_count": 5,
   "metadata": {},
   "outputs": [
    {
     "output_type": "stream",
     "name": "stdout",
     "text": [
      "R^2:  9.631088846373537e-05\n"
     ]
    }
   ],
   "source": [
    "print('R^2: ',metrics.r2_score(y_test, y_pred))"
   ]
  },
  {
   "cell_type": "markdown",
   "metadata": {},
   "source": [
    "모델마다 accuracy를 측정하는 방법이 다릅니다. 다행히도, **scikit-learn** 및 **numpy**는 정확도 측정에 도움이되는 다양한 기능을 제공합니다."
   ]
  }
 ],
 "metadata": {
  "kernelspec": {
   "display_name": "Python 3",
   "language": "python",
   "name": "python3"
  },
  "language_info": {
   "codemirror_mode": {
    "name": "ipython",
    "version": 3
   },
   "file_extension": ".py",
   "mimetype": "text/x-python",
   "name": "python",
   "nbconvert_exporter": "python",
   "pygments_lexer": "ipython3",
   "version": "3.7.3-final"
  }
 },
 "nbformat": 4,
 "nbformat_minor": 2
}