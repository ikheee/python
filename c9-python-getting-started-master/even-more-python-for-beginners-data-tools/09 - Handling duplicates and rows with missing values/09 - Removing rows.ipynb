{
 "cells": [
  {
   "cell_type": "markdown",
   "metadata": {},
   "source": [
    "# 중복 데이터와 missing value(결측값) 처리\n",
    "\n",
    "대부분의 머신러닝 알고리즘은 missing value을 발견하면 오류를 리턴합니다. 따라서 DataFrame에서 missing value가 있는 row를 제거해야합니다.\n"
   ]
  },
  {
   "cell_type": "code",
   "execution_count": 1,
   "metadata": {},
   "outputs": [],
   "source": [
    "import pandas as pd"
   ]
  },
  {
   "cell_type": "markdown",
   "metadata": {},
   "source": [
    "항공편 지연 데이터셋에는 항공편 및 항공편 지연에 대한 정보가 포함되어 있습니다."
   ]
  },
  {
   "cell_type": "code",
   "execution_count": 2,
   "metadata": {},
   "outputs": [
    {
     "output_type": "execute_result",
     "data": {
      "text/plain": [
       "      FL_DATE OP_UNIQUE_CARRIER TAIL_NUM  OP_CARRIER_FL_NUM ORIGIN DEST  \\\n",
       "0  2018-10-01                WN   N221WN                802    ABQ  BWI   \n",
       "1  2018-10-01                WN   N8329B               3744    ABQ  BWI   \n",
       "2  2018-10-01                WN   N920WN               1019    ABQ  DAL   \n",
       "3  2018-10-01                WN   N480WN               1499    ABQ  DAL   \n",
       "4  2018-10-01                WN   N227WN               3635    ABQ  DAL   \n",
       "\n",
       "   CRS_DEP_TIME  DEP_TIME  DEP_DELAY  CRS_ARR_TIME  ARR_TIME  ARR_DELAY  \\\n",
       "0           905     903.0       -2.0          1450    1433.0      -17.0   \n",
       "1          1500    1458.0       -2.0          2045    2020.0      -25.0   \n",
       "2          1800    1802.0        2.0          2045    2032.0      -13.0   \n",
       "3           950     947.0       -3.0          1235    1223.0      -12.0   \n",
       "4          1150    1151.0        1.0          1430    1423.0       -7.0   \n",
       "\n",
       "   CRS_ELAPSED_TIME  ACTUAL_ELAPSED_TIME  AIR_TIME  DISTANCE  \n",
       "0               225                210.0     197.0      1670  \n",
       "1               225                202.0     191.0      1670  \n",
       "2               105                 90.0      80.0       580  \n",
       "3               105                 96.0      81.0       580  \n",
       "4               100                 92.0      80.0       580  "
      ],
      "text/html": "<div>\n<style scoped>\n    .dataframe tbody tr th:only-of-type {\n        vertical-align: middle;\n    }\n\n    .dataframe tbody tr th {\n        vertical-align: top;\n    }\n\n    .dataframe thead th {\n        text-align: right;\n    }\n</style>\n<table border=\"1\" class=\"dataframe\">\n  <thead>\n    <tr style=\"text-align: right;\">\n      <th></th>\n      <th>FL_DATE</th>\n      <th>OP_UNIQUE_CARRIER</th>\n      <th>TAIL_NUM</th>\n      <th>OP_CARRIER_FL_NUM</th>\n      <th>ORIGIN</th>\n      <th>DEST</th>\n      <th>CRS_DEP_TIME</th>\n      <th>DEP_TIME</th>\n      <th>DEP_DELAY</th>\n      <th>CRS_ARR_TIME</th>\n      <th>ARR_TIME</th>\n      <th>ARR_DELAY</th>\n      <th>CRS_ELAPSED_TIME</th>\n      <th>ACTUAL_ELAPSED_TIME</th>\n      <th>AIR_TIME</th>\n      <th>DISTANCE</th>\n    </tr>\n  </thead>\n  <tbody>\n    <tr>\n      <th>0</th>\n      <td>2018-10-01</td>\n      <td>WN</td>\n      <td>N221WN</td>\n      <td>802</td>\n      <td>ABQ</td>\n      <td>BWI</td>\n      <td>905</td>\n      <td>903.0</td>\n      <td>-2.0</td>\n      <td>1450</td>\n      <td>1433.0</td>\n      <td>-17.0</td>\n      <td>225</td>\n      <td>210.0</td>\n      <td>197.0</td>\n      <td>1670</td>\n    </tr>\n    <tr>\n      <th>1</th>\n      <td>2018-10-01</td>\n      <td>WN</td>\n      <td>N8329B</td>\n      <td>3744</td>\n      <td>ABQ</td>\n      <td>BWI</td>\n      <td>1500</td>\n      <td>1458.0</td>\n      <td>-2.0</td>\n      <td>2045</td>\n      <td>2020.0</td>\n      <td>-25.0</td>\n      <td>225</td>\n      <td>202.0</td>\n      <td>191.0</td>\n      <td>1670</td>\n    </tr>\n    <tr>\n      <th>2</th>\n      <td>2018-10-01</td>\n      <td>WN</td>\n      <td>N920WN</td>\n      <td>1019</td>\n      <td>ABQ</td>\n      <td>DAL</td>\n      <td>1800</td>\n      <td>1802.0</td>\n      <td>2.0</td>\n      <td>2045</td>\n      <td>2032.0</td>\n      <td>-13.0</td>\n      <td>105</td>\n      <td>90.0</td>\n      <td>80.0</td>\n      <td>580</td>\n    </tr>\n    <tr>\n      <th>3</th>\n      <td>2018-10-01</td>\n      <td>WN</td>\n      <td>N480WN</td>\n      <td>1499</td>\n      <td>ABQ</td>\n      <td>DAL</td>\n      <td>950</td>\n      <td>947.0</td>\n      <td>-3.0</td>\n      <td>1235</td>\n      <td>1223.0</td>\n      <td>-12.0</td>\n      <td>105</td>\n      <td>96.0</td>\n      <td>81.0</td>\n      <td>580</td>\n    </tr>\n    <tr>\n      <th>4</th>\n      <td>2018-10-01</td>\n      <td>WN</td>\n      <td>N227WN</td>\n      <td>3635</td>\n      <td>ABQ</td>\n      <td>DAL</td>\n      <td>1150</td>\n      <td>1151.0</td>\n      <td>1.0</td>\n      <td>1430</td>\n      <td>1423.0</td>\n      <td>-7.0</td>\n      <td>100</td>\n      <td>92.0</td>\n      <td>80.0</td>\n      <td>580</td>\n    </tr>\n  </tbody>\n</table>\n</div>"
     },
     "metadata": {},
     "execution_count": 2
    }
   ],
   "source": [
    "delays_df = pd.read_csv('Lots_of_flight_data.csv')\n",
    "delays_df.head()"
   ]
  },
  {
   "cell_type": "markdown",
   "metadata": {},
   "source": [
    "**info**는 DataFrame에 있는 row 수와 각 column에 대해 Null이 아닌 값의 수를 표시합니다. 이를 통해 어떤 column에  null값(missing value)이 있는지 확인할 수 있습니다."
   ]
  },
  {
   "cell_type": "code",
   "execution_count": 3,
   "metadata": {},
   "outputs": [
    {
     "output_type": "stream",
     "name": "stdout",
     "text": [
      "<class 'pandas.core.frame.DataFrame'>\nRangeIndex: 300000 entries, 0 to 299999\nData columns (total 16 columns):\n #   Column               Non-Null Count   Dtype  \n---  ------               --------------   -----  \n 0   FL_DATE              300000 non-null  object \n 1   OP_UNIQUE_CARRIER    300000 non-null  object \n 2   TAIL_NUM             299660 non-null  object \n 3   OP_CARRIER_FL_NUM    300000 non-null  int64  \n 4   ORIGIN               300000 non-null  object \n 5   DEST                 300000 non-null  object \n 6   CRS_DEP_TIME         300000 non-null  int64  \n 7   DEP_TIME             296825 non-null  float64\n 8   DEP_DELAY            296825 non-null  float64\n 9   CRS_ARR_TIME         300000 non-null  int64  \n 10  ARR_TIME             296574 non-null  float64\n 11  ARR_DELAY            295832 non-null  float64\n 12  CRS_ELAPSED_TIME     300000 non-null  int64  \n 13  ACTUAL_ELAPSED_TIME  295832 non-null  float64\n 14  AIR_TIME             295832 non-null  float64\n 15  DISTANCE             300000 non-null  int64  \ndtypes: float64(6), int64(5), object(5)\nmemory usage: 36.6+ MB\n"
     ]
    }
   ],
   "source": [
    "delays_df.info()"
   ]
  },
  {
   "cell_type": "markdown",
   "metadata": {},
   "source": [
    "TAIL_NUM, DEP_TIME, DEP_DELAY, ARR_TIME, ARR_DELAY, ACTUAL_ELAPSED_TIME, AIR_TIME \n",
    "\n",
    "이 column들에 missing value가 포함되어 있습니다."
   ]
  },
  {
   "cell_type": "markdown",
   "metadata": {},
   "source": [
    "Missing value를 처리하는 많은 방법이 있으며, 가장 간단한 방법은 missing value가 있는 행을 삭제하는 것입니다.\n",
    "\n",
    "**dropna**는 null(missing value)값이 포함 된 행을 삭제합니다."
   ]
  },
  {
   "cell_type": "code",
   "execution_count": 4,
   "metadata": {
    "scrolled": true
   },
   "outputs": [
    {
     "output_type": "stream",
     "name": "stdout",
     "text": [
      "<class 'pandas.core.frame.DataFrame'>\nInt64Index: 295832 entries, 0 to 299999\nData columns (total 16 columns):\n #   Column               Non-Null Count   Dtype  \n---  ------               --------------   -----  \n 0   FL_DATE              295832 non-null  object \n 1   OP_UNIQUE_CARRIER    295832 non-null  object \n 2   TAIL_NUM             295832 non-null  object \n 3   OP_CARRIER_FL_NUM    295832 non-null  int64  \n 4   ORIGIN               295832 non-null  object \n 5   DEST                 295832 non-null  object \n 6   CRS_DEP_TIME         295832 non-null  int64  \n 7   DEP_TIME             295832 non-null  float64\n 8   DEP_DELAY            295832 non-null  float64\n 9   CRS_ARR_TIME         295832 non-null  int64  \n 10  ARR_TIME             295832 non-null  float64\n 11  ARR_DELAY            295832 non-null  float64\n 12  CRS_ELAPSED_TIME     295832 non-null  int64  \n 13  ACTUAL_ELAPSED_TIME  295832 non-null  float64\n 14  AIR_TIME             295832 non-null  float64\n 15  DISTANCE             295832 non-null  int64  \ndtypes: float64(6), int64(5), object(5)\nmemory usage: 38.4+ MB\n"
     ]
    }
   ],
   "source": [
    "delay_no_nulls_df = delays_df.dropna()   # Missing values가 있는 row 삭제\n",
    "delay_no_nulls_df.info()                 # 확인을 위해 전체 row의 수와 Non-null value 수를 체크"
   ]
  },
  {
   "cell_type": "markdown",
   "metadata": {},
   "source": [
    "\n",
    "원본 DataFrame을 유지할 필요가 없는 경우는 새 DataFrame을 만드는 대신 원본 DataFrame의 row를 삭제하면됩니다.\n",
    "\n",
    "**inplace=*True***는 지정된 DataFrame에서 row를 삭제합니다.\n"
   ]
  },
  {
   "cell_type": "code",
   "execution_count": 5,
   "metadata": {},
   "outputs": [
    {
     "output_type": "stream",
     "name": "stdout",
     "text": [
      "<class 'pandas.core.frame.DataFrame'>\nInt64Index: 295832 entries, 0 to 299999\nData columns (total 16 columns):\n #   Column               Non-Null Count   Dtype  \n---  ------               --------------   -----  \n 0   FL_DATE              295832 non-null  object \n 1   OP_UNIQUE_CARRIER    295832 non-null  object \n 2   TAIL_NUM             295832 non-null  object \n 3   OP_CARRIER_FL_NUM    295832 non-null  int64  \n 4   ORIGIN               295832 non-null  object \n 5   DEST                 295832 non-null  object \n 6   CRS_DEP_TIME         295832 non-null  int64  \n 7   DEP_TIME             295832 non-null  float64\n 8   DEP_DELAY            295832 non-null  float64\n 9   CRS_ARR_TIME         295832 non-null  int64  \n 10  ARR_TIME             295832 non-null  float64\n 11  ARR_DELAY            295832 non-null  float64\n 12  CRS_ELAPSED_TIME     295832 non-null  int64  \n 13  ACTUAL_ELAPSED_TIME  295832 non-null  float64\n 14  AIR_TIME             295832 non-null  float64\n 15  DISTANCE             295832 non-null  int64  \ndtypes: float64(6), int64(5), object(5)\nmemory usage: 38.4+ MB\n"
     ]
    }
   ],
   "source": [
    "delays_df.dropna(inplace=True)\n",
    "delays_df.info()"
   ]
  },
  {
   "cell_type": "markdown",
   "metadata": {},
   "source": [
    "여러 데이터 소스에서 데이터를 로드하면 중복 row가 생길 수 있습니다."
   ]
  },
  {
   "cell_type": "code",
   "execution_count": 6,
   "metadata": {},
   "outputs": [
    {
     "output_type": "execute_result",
     "data": {
      "text/plain": [
       "             Name        City         Country\n",
       "0  Seattle-Tacoma     Seattle             USA\n",
       "1          Dulles  Washington             USA\n",
       "2          Dulles  Washington             USA\n",
       "3        Heathrow      London  United Kingdom\n",
       "4        Schiphol   Amsterdam     Netherlands"
      ],
      "text/html": "<div>\n<style scoped>\n    .dataframe tbody tr th:only-of-type {\n        vertical-align: middle;\n    }\n\n    .dataframe tbody tr th {\n        vertical-align: top;\n    }\n\n    .dataframe thead th {\n        text-align: right;\n    }\n</style>\n<table border=\"1\" class=\"dataframe\">\n  <thead>\n    <tr style=\"text-align: right;\">\n      <th></th>\n      <th>Name</th>\n      <th>City</th>\n      <th>Country</th>\n    </tr>\n  </thead>\n  <tbody>\n    <tr>\n      <th>0</th>\n      <td>Seattle-Tacoma</td>\n      <td>Seattle</td>\n      <td>USA</td>\n    </tr>\n    <tr>\n      <th>1</th>\n      <td>Dulles</td>\n      <td>Washington</td>\n      <td>USA</td>\n    </tr>\n    <tr>\n      <th>2</th>\n      <td>Dulles</td>\n      <td>Washington</td>\n      <td>USA</td>\n    </tr>\n    <tr>\n      <th>3</th>\n      <td>Heathrow</td>\n      <td>London</td>\n      <td>United Kingdom</td>\n    </tr>\n    <tr>\n      <th>4</th>\n      <td>Schiphol</td>\n      <td>Amsterdam</td>\n      <td>Netherlands</td>\n    </tr>\n  </tbody>\n</table>\n</div>"
     },
     "metadata": {},
     "execution_count": 6
    }
   ],
   "source": [
    "airports_df = pd.read_csv('airportsDuplicateRows.csv')\n",
    "airports_df.head()"
   ]
  },
  {
   "cell_type": "markdown",
   "metadata": {},
   "source": [
    "**duplicates**를 사용하면 중복 row를 찾아냅니다.\n",
    "\n",
    "row가 이전 row와 중복되면 **True**를 리턴합니다."
   ]
  },
  {
   "cell_type": "code",
   "execution_count": 7,
   "metadata": {},
   "outputs": [
    {
     "output_type": "execute_result",
     "data": {
      "text/plain": [
       "0    False\n",
       "1    False\n",
       "2     True\n",
       "3    False\n",
       "4    False\n",
       "5    False\n",
       "6    False\n",
       "7    False\n",
       "dtype: bool"
      ]
     },
     "metadata": {},
     "execution_count": 7
    }
   ],
   "source": [
    "airports_df.duplicated()"
   ]
  },
  {
   "cell_type": "markdown",
   "metadata": {},
   "source": [
    "**drop_duplicates**는 중복 row를 삭제합니다."
   ]
  },
  {
   "cell_type": "code",
   "execution_count": 8,
   "metadata": {},
   "outputs": [
    {
     "output_type": "execute_result",
     "data": {
      "text/plain": [
       "             Name        City         Country\n",
       "0  Seattle-Tacoma     Seattle             USA\n",
       "1          Dulles  Washington             USA\n",
       "3        Heathrow      London  United Kingdom\n",
       "4        Schiphol   Amsterdam     Netherlands\n",
       "5          Changi   Singapore       Singapore\n",
       "6         Pearson     Toronto          Canada\n",
       "7          Narita       Tokyo           Japan"
      ],
      "text/html": "<div>\n<style scoped>\n    .dataframe tbody tr th:only-of-type {\n        vertical-align: middle;\n    }\n\n    .dataframe tbody tr th {\n        vertical-align: top;\n    }\n\n    .dataframe thead th {\n        text-align: right;\n    }\n</style>\n<table border=\"1\" class=\"dataframe\">\n  <thead>\n    <tr style=\"text-align: right;\">\n      <th></th>\n      <th>Name</th>\n      <th>City</th>\n      <th>Country</th>\n    </tr>\n  </thead>\n  <tbody>\n    <tr>\n      <th>0</th>\n      <td>Seattle-Tacoma</td>\n      <td>Seattle</td>\n      <td>USA</td>\n    </tr>\n    <tr>\n      <th>1</th>\n      <td>Dulles</td>\n      <td>Washington</td>\n      <td>USA</td>\n    </tr>\n    <tr>\n      <th>3</th>\n      <td>Heathrow</td>\n      <td>London</td>\n      <td>United Kingdom</td>\n    </tr>\n    <tr>\n      <th>4</th>\n      <td>Schiphol</td>\n      <td>Amsterdam</td>\n      <td>Netherlands</td>\n    </tr>\n    <tr>\n      <th>5</th>\n      <td>Changi</td>\n      <td>Singapore</td>\n      <td>Singapore</td>\n    </tr>\n    <tr>\n      <th>6</th>\n      <td>Pearson</td>\n      <td>Toronto</td>\n      <td>Canada</td>\n    </tr>\n    <tr>\n      <th>7</th>\n      <td>Narita</td>\n      <td>Tokyo</td>\n      <td>Japan</td>\n    </tr>\n  </tbody>\n</table>\n</div>"
     },
     "metadata": {},
     "execution_count": 8
    }
   ],
   "source": [
    "airports_df.drop_duplicates(inplace=True)\n",
    "airports_df"
   ]
  },
  {
   "cell_type": "code",
   "execution_count": null,
   "metadata": {},
   "outputs": [],
   "source": []
  }
 ],
 "metadata": {
  "kernelspec": {
   "display_name": "Python 3",
   "language": "python",
   "name": "python3"
  },
  "language_info": {
   "codemirror_mode": {
    "name": "ipython",
    "version": 3
   },
   "file_extension": ".py",
   "mimetype": "text/x-python",
   "name": "python",
   "nbconvert_exporter": "python",
   "pygments_lexer": "ipython3",
   "version": "3.7.3-final"
  }
 },
 "nbformat": 4,
 "nbformat_minor": 2
}