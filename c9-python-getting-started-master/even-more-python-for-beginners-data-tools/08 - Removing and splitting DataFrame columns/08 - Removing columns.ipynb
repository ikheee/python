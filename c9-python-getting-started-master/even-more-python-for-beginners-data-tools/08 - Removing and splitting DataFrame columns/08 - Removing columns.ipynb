{
 "cells": [
  {
   "cell_type": "markdown",
   "metadata": {},
   "source": [
    "# pandas DataFrame column 제거 및 분할(split)\n"
   ]
  },
  {
   "cell_type": "markdown",
   "metadata": {},
   "source": [
    "머신러닝을 수행하기 위해 데이터를 준비 할 때, DataFrame에서 특정 column을 제거해야 하는 경우가 있습니다.\n",
    "\n"
   ]
  },
  {
   "cell_type": "code",
   "execution_count": 2,
   "metadata": {},
   "outputs": [],
   "source": [
    "import pandas as pd"
   ]
  },
  {
   "cell_type": "markdown",
   "metadata": {},
   "source": [
    "여러 column이 있는 더 큰 CSV 파일을 로드하겠습니다. **flight_delays.csv**는 항공편 및 비행 지연에 대한 정보를 제공하는 파일입니다.\n"
   ]
  },
  {
   "cell_type": "code",
   "execution_count": 3,
   "metadata": {},
   "outputs": [
    {
     "output_type": "execute_result",
     "data": {
      "text/plain": [
       "      FL_DATE OP_UNIQUE_CARRIER TAIL_NUM  OP_CARRIER_FL_NUM ORIGIN DEST  \\\n",
       "0  2018-10-01                WN   N221WN                802    ABQ  BWI   \n",
       "1  2018-10-01                WN   N8329B               3744    ABQ  BWI   \n",
       "2  2018-10-01                WN   N920WN               1019    ABQ  DAL   \n",
       "3  2018-10-01                WN   N480WN               1499    ABQ  DAL   \n",
       "4  2018-10-01                WN   N227WN               3635    ABQ  DAL   \n",
       "\n",
       "   CRS_DEP_TIME  DEP_TIME  DEP_DELAY  CRS_ARR_TIME  ARR_TIME  ARR_DELAY  \\\n",
       "0           905       903         -2          1450      1433        -17   \n",
       "1          1500      1458         -2          2045      2020        -25   \n",
       "2          1800      1802          2          2045      2032        -13   \n",
       "3           950       947         -3          1235      1223        -12   \n",
       "4          1150      1151          1          1430      1423         -7   \n",
       "\n",
       "   CRS_ELAPSED_TIME  ACTUAL_ELAPSED_TIME  AIR_TIME  DISTANCE  \n",
       "0               225                  210       197      1670  \n",
       "1               225                  202       191      1670  \n",
       "2               105                   90        80       580  \n",
       "3               105                   96        81       580  \n",
       "4               100                   92        80       580  "
      ],
      "text/html": "<div>\n<style scoped>\n    .dataframe tbody tr th:only-of-type {\n        vertical-align: middle;\n    }\n\n    .dataframe tbody tr th {\n        vertical-align: top;\n    }\n\n    .dataframe thead th {\n        text-align: right;\n    }\n</style>\n<table border=\"1\" class=\"dataframe\">\n  <thead>\n    <tr style=\"text-align: right;\">\n      <th></th>\n      <th>FL_DATE</th>\n      <th>OP_UNIQUE_CARRIER</th>\n      <th>TAIL_NUM</th>\n      <th>OP_CARRIER_FL_NUM</th>\n      <th>ORIGIN</th>\n      <th>DEST</th>\n      <th>CRS_DEP_TIME</th>\n      <th>DEP_TIME</th>\n      <th>DEP_DELAY</th>\n      <th>CRS_ARR_TIME</th>\n      <th>ARR_TIME</th>\n      <th>ARR_DELAY</th>\n      <th>CRS_ELAPSED_TIME</th>\n      <th>ACTUAL_ELAPSED_TIME</th>\n      <th>AIR_TIME</th>\n      <th>DISTANCE</th>\n    </tr>\n  </thead>\n  <tbody>\n    <tr>\n      <th>0</th>\n      <td>2018-10-01</td>\n      <td>WN</td>\n      <td>N221WN</td>\n      <td>802</td>\n      <td>ABQ</td>\n      <td>BWI</td>\n      <td>905</td>\n      <td>903</td>\n      <td>-2</td>\n      <td>1450</td>\n      <td>1433</td>\n      <td>-17</td>\n      <td>225</td>\n      <td>210</td>\n      <td>197</td>\n      <td>1670</td>\n    </tr>\n    <tr>\n      <th>1</th>\n      <td>2018-10-01</td>\n      <td>WN</td>\n      <td>N8329B</td>\n      <td>3744</td>\n      <td>ABQ</td>\n      <td>BWI</td>\n      <td>1500</td>\n      <td>1458</td>\n      <td>-2</td>\n      <td>2045</td>\n      <td>2020</td>\n      <td>-25</td>\n      <td>225</td>\n      <td>202</td>\n      <td>191</td>\n      <td>1670</td>\n    </tr>\n    <tr>\n      <th>2</th>\n      <td>2018-10-01</td>\n      <td>WN</td>\n      <td>N920WN</td>\n      <td>1019</td>\n      <td>ABQ</td>\n      <td>DAL</td>\n      <td>1800</td>\n      <td>1802</td>\n      <td>2</td>\n      <td>2045</td>\n      <td>2032</td>\n      <td>-13</td>\n      <td>105</td>\n      <td>90</td>\n      <td>80</td>\n      <td>580</td>\n    </tr>\n    <tr>\n      <th>3</th>\n      <td>2018-10-01</td>\n      <td>WN</td>\n      <td>N480WN</td>\n      <td>1499</td>\n      <td>ABQ</td>\n      <td>DAL</td>\n      <td>950</td>\n      <td>947</td>\n      <td>-3</td>\n      <td>1235</td>\n      <td>1223</td>\n      <td>-12</td>\n      <td>105</td>\n      <td>96</td>\n      <td>81</td>\n      <td>580</td>\n    </tr>\n    <tr>\n      <th>4</th>\n      <td>2018-10-01</td>\n      <td>WN</td>\n      <td>N227WN</td>\n      <td>3635</td>\n      <td>ABQ</td>\n      <td>DAL</td>\n      <td>1150</td>\n      <td>1151</td>\n      <td>1</td>\n      <td>1430</td>\n      <td>1423</td>\n      <td>-7</td>\n      <td>100</td>\n      <td>92</td>\n      <td>80</td>\n      <td>580</td>\n    </tr>\n  </tbody>\n</table>\n</div>"
     },
     "metadata": {},
     "execution_count": 3
    }
   ],
   "source": [
    "delays_df = pd.read_csv('flight_delays.csv')\n",
    "delays_df.head()"
   ]
  },
  {
   "cell_type": "markdown",
   "metadata": {},
   "source": [
    "## DataFrame에서 colummn 제거.\n",
    "\n",
    "머신러닝을 수행하기 위해 데이터를 준비 할 때, DataFrame에서 특정 column을 제거해야 하는 경우가 있습니다.\n",
    "\n",
    "예를 들어:\n",
    "비행 지연 시간(ARR_DELAY)을 예측하기 위해 머신러닝 모델을 트레이닝 한다고 가정 합니다.\n",
    "\n",
    "모델이 예정된 도착 시간(CRS_ARR_TIME)과 실제 도착 시간(ARR_TIME)을 알고있는 경우 예측 모델은 ARR_DELAY = ARR_TIME - CRS_ARR_TIME을 신속하게 이해합니다.\n",
    "\n",
    "향후 항공편의 도착 시간을 예측할 때, 도착 시간(ARR_TIME)에 대한 값이 없어야 하고, 따라서 ARR_DELAY를 예측하도록 모델을 훈련 할 때 feature로 사용되지 않도록 DataFrame에서 이 column을 제거해야 합니다.\n",
    "\n",
    "\n"
   ]
  },
  {
   "cell_type": "code",
   "execution_count": 4,
   "metadata": {},
   "outputs": [
    {
     "output_type": "execute_result",
     "data": {
      "text/plain": [
       "      FL_DATE OP_UNIQUE_CARRIER TAIL_NUM  OP_CARRIER_FL_NUM ORIGIN DEST  \\\n",
       "0  2018-10-01                WN   N221WN                802    ABQ  BWI   \n",
       "1  2018-10-01                WN   N8329B               3744    ABQ  BWI   \n",
       "2  2018-10-01                WN   N920WN               1019    ABQ  DAL   \n",
       "3  2018-10-01                WN   N480WN               1499    ABQ  DAL   \n",
       "4  2018-10-01                WN   N227WN               3635    ABQ  DAL   \n",
       "\n",
       "   CRS_DEP_TIME  DEP_TIME  DEP_DELAY  CRS_ARR_TIME  ARR_DELAY  \\\n",
       "0           905       903         -2          1450        -17   \n",
       "1          1500      1458         -2          2045        -25   \n",
       "2          1800      1802          2          2045        -13   \n",
       "3           950       947         -3          1235        -12   \n",
       "4          1150      1151          1          1430         -7   \n",
       "\n",
       "   CRS_ELAPSED_TIME  ACTUAL_ELAPSED_TIME  AIR_TIME  DISTANCE  \n",
       "0               225                  210       197      1670  \n",
       "1               225                  202       191      1670  \n",
       "2               105                   90        80       580  \n",
       "3               105                   96        81       580  \n",
       "4               100                   92        80       580  "
      ],
      "text/html": "<div>\n<style scoped>\n    .dataframe tbody tr th:only-of-type {\n        vertical-align: middle;\n    }\n\n    .dataframe tbody tr th {\n        vertical-align: top;\n    }\n\n    .dataframe thead th {\n        text-align: right;\n    }\n</style>\n<table border=\"1\" class=\"dataframe\">\n  <thead>\n    <tr style=\"text-align: right;\">\n      <th></th>\n      <th>FL_DATE</th>\n      <th>OP_UNIQUE_CARRIER</th>\n      <th>TAIL_NUM</th>\n      <th>OP_CARRIER_FL_NUM</th>\n      <th>ORIGIN</th>\n      <th>DEST</th>\n      <th>CRS_DEP_TIME</th>\n      <th>DEP_TIME</th>\n      <th>DEP_DELAY</th>\n      <th>CRS_ARR_TIME</th>\n      <th>ARR_DELAY</th>\n      <th>CRS_ELAPSED_TIME</th>\n      <th>ACTUAL_ELAPSED_TIME</th>\n      <th>AIR_TIME</th>\n      <th>DISTANCE</th>\n    </tr>\n  </thead>\n  <tbody>\n    <tr>\n      <th>0</th>\n      <td>2018-10-01</td>\n      <td>WN</td>\n      <td>N221WN</td>\n      <td>802</td>\n      <td>ABQ</td>\n      <td>BWI</td>\n      <td>905</td>\n      <td>903</td>\n      <td>-2</td>\n      <td>1450</td>\n      <td>-17</td>\n      <td>225</td>\n      <td>210</td>\n      <td>197</td>\n      <td>1670</td>\n    </tr>\n    <tr>\n      <th>1</th>\n      <td>2018-10-01</td>\n      <td>WN</td>\n      <td>N8329B</td>\n      <td>3744</td>\n      <td>ABQ</td>\n      <td>BWI</td>\n      <td>1500</td>\n      <td>1458</td>\n      <td>-2</td>\n      <td>2045</td>\n      <td>-25</td>\n      <td>225</td>\n      <td>202</td>\n      <td>191</td>\n      <td>1670</td>\n    </tr>\n    <tr>\n      <th>2</th>\n      <td>2018-10-01</td>\n      <td>WN</td>\n      <td>N920WN</td>\n      <td>1019</td>\n      <td>ABQ</td>\n      <td>DAL</td>\n      <td>1800</td>\n      <td>1802</td>\n      <td>2</td>\n      <td>2045</td>\n      <td>-13</td>\n      <td>105</td>\n      <td>90</td>\n      <td>80</td>\n      <td>580</td>\n    </tr>\n    <tr>\n      <th>3</th>\n      <td>2018-10-01</td>\n      <td>WN</td>\n      <td>N480WN</td>\n      <td>1499</td>\n      <td>ABQ</td>\n      <td>DAL</td>\n      <td>950</td>\n      <td>947</td>\n      <td>-3</td>\n      <td>1235</td>\n      <td>-12</td>\n      <td>105</td>\n      <td>96</td>\n      <td>81</td>\n      <td>580</td>\n    </tr>\n    <tr>\n      <th>4</th>\n      <td>2018-10-01</td>\n      <td>WN</td>\n      <td>N227WN</td>\n      <td>3635</td>\n      <td>ABQ</td>\n      <td>DAL</td>\n      <td>1150</td>\n      <td>1151</td>\n      <td>1</td>\n      <td>1430</td>\n      <td>-7</td>\n      <td>100</td>\n      <td>92</td>\n      <td>80</td>\n      <td>580</td>\n    </tr>\n  </tbody>\n</table>\n</div>"
     },
     "metadata": {},
     "execution_count": 4
    }
   ],
   "source": [
    "# DataFrame delays_df에서 ARR_TIME column을 제거 \n",
    "\n",
    "#delays_df = delays_df.drop(['ARR_TIME'],axis=1)\n",
    "new_df = delays_df.drop(columns=['ARR_TIME'])\n",
    "new_df.head()"
   ]
  },
  {
   "cell_type": "markdown",
   "metadata": {},
   "source": [
    "**inplace** 파라미터를 사용하여 기존 DataFrame에서 바로 column을 삭제합니다."
   ]
  },
  {
   "cell_type": "code",
   "execution_count": 5,
   "metadata": {},
   "outputs": [
    {
     "output_type": "execute_result",
     "data": {
      "text/plain": [
       "      FL_DATE OP_UNIQUE_CARRIER TAIL_NUM  OP_CARRIER_FL_NUM ORIGIN DEST  \\\n",
       "0  2018-10-01                WN   N221WN                802    ABQ  BWI   \n",
       "1  2018-10-01                WN   N8329B               3744    ABQ  BWI   \n",
       "2  2018-10-01                WN   N920WN               1019    ABQ  DAL   \n",
       "3  2018-10-01                WN   N480WN               1499    ABQ  DAL   \n",
       "4  2018-10-01                WN   N227WN               3635    ABQ  DAL   \n",
       "\n",
       "   CRS_DEP_TIME  DEP_TIME  DEP_DELAY  CRS_ARR_TIME  ARR_DELAY  \\\n",
       "0           905       903         -2          1450        -17   \n",
       "1          1500      1458         -2          2045        -25   \n",
       "2          1800      1802          2          2045        -13   \n",
       "3           950       947         -3          1235        -12   \n",
       "4          1150      1151          1          1430         -7   \n",
       "\n",
       "   CRS_ELAPSED_TIME  ACTUAL_ELAPSED_TIME  AIR_TIME  DISTANCE  \n",
       "0               225                  210       197      1670  \n",
       "1               225                  202       191      1670  \n",
       "2               105                   90        80       580  \n",
       "3               105                   96        81       580  \n",
       "4               100                   92        80       580  "
      ],
      "text/html": "<div>\n<style scoped>\n    .dataframe tbody tr th:only-of-type {\n        vertical-align: middle;\n    }\n\n    .dataframe tbody tr th {\n        vertical-align: top;\n    }\n\n    .dataframe thead th {\n        text-align: right;\n    }\n</style>\n<table border=\"1\" class=\"dataframe\">\n  <thead>\n    <tr style=\"text-align: right;\">\n      <th></th>\n      <th>FL_DATE</th>\n      <th>OP_UNIQUE_CARRIER</th>\n      <th>TAIL_NUM</th>\n      <th>OP_CARRIER_FL_NUM</th>\n      <th>ORIGIN</th>\n      <th>DEST</th>\n      <th>CRS_DEP_TIME</th>\n      <th>DEP_TIME</th>\n      <th>DEP_DELAY</th>\n      <th>CRS_ARR_TIME</th>\n      <th>ARR_DELAY</th>\n      <th>CRS_ELAPSED_TIME</th>\n      <th>ACTUAL_ELAPSED_TIME</th>\n      <th>AIR_TIME</th>\n      <th>DISTANCE</th>\n    </tr>\n  </thead>\n  <tbody>\n    <tr>\n      <th>0</th>\n      <td>2018-10-01</td>\n      <td>WN</td>\n      <td>N221WN</td>\n      <td>802</td>\n      <td>ABQ</td>\n      <td>BWI</td>\n      <td>905</td>\n      <td>903</td>\n      <td>-2</td>\n      <td>1450</td>\n      <td>-17</td>\n      <td>225</td>\n      <td>210</td>\n      <td>197</td>\n      <td>1670</td>\n    </tr>\n    <tr>\n      <th>1</th>\n      <td>2018-10-01</td>\n      <td>WN</td>\n      <td>N8329B</td>\n      <td>3744</td>\n      <td>ABQ</td>\n      <td>BWI</td>\n      <td>1500</td>\n      <td>1458</td>\n      <td>-2</td>\n      <td>2045</td>\n      <td>-25</td>\n      <td>225</td>\n      <td>202</td>\n      <td>191</td>\n      <td>1670</td>\n    </tr>\n    <tr>\n      <th>2</th>\n      <td>2018-10-01</td>\n      <td>WN</td>\n      <td>N920WN</td>\n      <td>1019</td>\n      <td>ABQ</td>\n      <td>DAL</td>\n      <td>1800</td>\n      <td>1802</td>\n      <td>2</td>\n      <td>2045</td>\n      <td>-13</td>\n      <td>105</td>\n      <td>90</td>\n      <td>80</td>\n      <td>580</td>\n    </tr>\n    <tr>\n      <th>3</th>\n      <td>2018-10-01</td>\n      <td>WN</td>\n      <td>N480WN</td>\n      <td>1499</td>\n      <td>ABQ</td>\n      <td>DAL</td>\n      <td>950</td>\n      <td>947</td>\n      <td>-3</td>\n      <td>1235</td>\n      <td>-12</td>\n      <td>105</td>\n      <td>96</td>\n      <td>81</td>\n      <td>580</td>\n    </tr>\n    <tr>\n      <th>4</th>\n      <td>2018-10-01</td>\n      <td>WN</td>\n      <td>N227WN</td>\n      <td>3635</td>\n      <td>ABQ</td>\n      <td>DAL</td>\n      <td>1150</td>\n      <td>1151</td>\n      <td>1</td>\n      <td>1430</td>\n      <td>-7</td>\n      <td>100</td>\n      <td>92</td>\n      <td>80</td>\n      <td>580</td>\n    </tr>\n  </tbody>\n</table>\n</div>"
     },
     "metadata": {},
     "execution_count": 5
    }
   ],
   "source": [
    "# DataFrame delays_df에서 ARR_TIME column을 제거 \n",
    "\n",
    "#delays_df = delays_df.drop(['ARR_TIME'],axis=1)\n",
    "delays_df.drop(columns=['ARR_TIME'], inplace=True)\n",
    "delays_df.head()"
   ]
  },
  {
   "cell_type": "markdown",
   "metadata": {},
   "source": [
    "일반적으로 정량적인 값(예를 들어, 거리, 분, 무게) 및 숫자가 아닐 수 있는 정성적인 값(예를 들어, 항공편이 출발 한 공항, 항공편을 운항 한 항공사 등)을 수치화된 값 기반으로 예측하기 위해 다양한 기술을 사용합니다.\n",
    "\n",
    "정량적 데이터는 머신러닝 모델 트레이닝을 하기 전에 별도의 DataFrame으로 이동할 수 있습니다.\n",
    "\n",
    "또한, 예측을 하기 원하는 라벨 값(ARR_DELAY)과 예측에 사용될 값들을 각각 분리된 DataFrame에 넣어서 예측 작업을 수월하게 진행할 수 있습니다. 예측에 사용될 데이터를 feature 데이터 라고 부릅니다.\n",
    "\n",
    "이 과정을 수행하려면, 기존 DataFrame의 column에서 새 DataFrame을 생성해야 합니다.\n"
   ]
  },
  {
   "cell_type": "code",
   "execution_count": 7,
   "metadata": {
    "scrolled": true
   },
   "outputs": [
    {
     "output_type": "execute_result",
     "data": {
      "text/plain": [
       "  ORIGIN DEST  OP_CARRIER_FL_NUM OP_UNIQUE_CARRIER TAIL_NUM\n",
       "0    ABQ  BWI                802                WN   N221WN\n",
       "1    ABQ  BWI               3744                WN   N8329B\n",
       "2    ABQ  DAL               1019                WN   N920WN\n",
       "3    ABQ  DAL               1499                WN   N480WN\n",
       "4    ABQ  DAL               3635                WN   N227WN"
      ],
      "text/html": "<div>\n<style scoped>\n    .dataframe tbody tr th:only-of-type {\n        vertical-align: middle;\n    }\n\n    .dataframe tbody tr th {\n        vertical-align: top;\n    }\n\n    .dataframe thead th {\n        text-align: right;\n    }\n</style>\n<table border=\"1\" class=\"dataframe\">\n  <thead>\n    <tr style=\"text-align: right;\">\n      <th></th>\n      <th>ORIGIN</th>\n      <th>DEST</th>\n      <th>OP_CARRIER_FL_NUM</th>\n      <th>OP_UNIQUE_CARRIER</th>\n      <th>TAIL_NUM</th>\n    </tr>\n  </thead>\n  <tbody>\n    <tr>\n      <th>0</th>\n      <td>ABQ</td>\n      <td>BWI</td>\n      <td>802</td>\n      <td>WN</td>\n      <td>N221WN</td>\n    </tr>\n    <tr>\n      <th>1</th>\n      <td>ABQ</td>\n      <td>BWI</td>\n      <td>3744</td>\n      <td>WN</td>\n      <td>N8329B</td>\n    </tr>\n    <tr>\n      <th>2</th>\n      <td>ABQ</td>\n      <td>DAL</td>\n      <td>1019</td>\n      <td>WN</td>\n      <td>N920WN</td>\n    </tr>\n    <tr>\n      <th>3</th>\n      <td>ABQ</td>\n      <td>DAL</td>\n      <td>1499</td>\n      <td>WN</td>\n      <td>N480WN</td>\n    </tr>\n    <tr>\n      <th>4</th>\n      <td>ABQ</td>\n      <td>DAL</td>\n      <td>3635</td>\n      <td>WN</td>\n      <td>N227WN</td>\n    </tr>\n  </tbody>\n</table>\n</div>"
     },
     "metadata": {},
     "execution_count": 7
    }
   ],
   "source": [
    "# desc_df라는 새 DataFrame을 생성합니다.\n",
    "# 모든 row와 다음 컬럼들을 포함해야 합니다. \n",
    "# ORIGIN, DEST, OP_CARRIER_FL_NUM, OP_UNIQUE_CARRIER, TAIL_NUM\n",
    "\n",
    "desc_df = delays_df.loc[:,['ORIGIN', 'DEST', 'OP_CARRIER_FL_NUM', 'OP_UNIQUE_CARRIER', 'TAIL_NUM']]\n",
    "desc_df.head()"
   ]
  },
  {
   "cell_type": "code",
   "execution_count": null,
   "metadata": {},
   "outputs": [],
   "source": []
  }
 ],
 "metadata": {
  "kernelspec": {
   "display_name": "Python 3",
   "language": "python",
   "name": "python3"
  },
  "language_info": {
   "codemirror_mode": {
    "name": "ipython",
    "version": 3
   },
   "file_extension": ".py",
   "mimetype": "text/x-python",
   "name": "python",
   "nbconvert_exporter": "python",
   "pygments_lexer": "ipython3",
   "version": "3.7.3-final"
  }
 },
 "nbformat": 4,
 "nbformat_minor": 2
}