{
 "cells": [
  {
   "cell_type": "markdown",
   "metadata": {},
   "source": [
    "# 트레이닝된 모델을 테스트\n",
    "모델을 학습 후, 따로 분리해 두었던 테스트 데이터로 모델을 테스트 할 수 있습니다."
   ]
  },
  {
   "cell_type": "markdown",
   "metadata": {},
   "source": [
    "트레이닝이 완료된 모델을 만들기 위해, 이전 노트북의 코드를 다시 실행합니다.\n"
   ]
  },
  {
   "cell_type": "code",
   "execution_count": 1,
   "metadata": {},
   "outputs": [],
   "source": [
    "import pandas as pd\n",
    "from sklearn.model_selection import train_test_split\n",
    "from sklearn.linear_model import LinearRegression"
   ]
  },
  {
   "cell_type": "code",
   "execution_count": 2,
   "metadata": {},
   "outputs": [
    {
     "output_type": "execute_result",
     "data": {
      "text/plain": [
       "LinearRegression(copy_X=True, fit_intercept=True, n_jobs=None, normalize=False)"
      ]
     },
     "metadata": {},
     "execution_count": 2
    }
   ],
   "source": [
    "# CSV 파일에서 데이터를 로드\n",
    "delays_df = pd.read_csv('Lots_of_flight_data.csv') \n",
    "\n",
    "# null값을 제거 - null값이 있으면 트레이닝 과정에서 문제를 유발할 수 있습니다.\n",
    "delays_df.dropna(inplace=True)\n",
    "\n",
    "# Feature column들을 X DataFrame으로 이동\n",
    "X = delays_df.loc[:,['DISTANCE', 'CRS_ELAPSED_TIME']]\n",
    "\n",
    "# Labe column을 y DataFrame으로 이동\n",
    "y = delays_df.loc[:,['ARR_DELAY']] \n",
    "\n",
    "# 데이터를 트레이닝 데이터셋과 테스트 데이터셋으로 분리 \n",
    "X_train, X_test, y_train, y_test = train_test_split(\n",
    "                                                    X, \n",
    "                                                    y, \n",
    "                                                    test_size=0.3, \n",
    "                                                    random_state=42\n",
    "                                                   )\n",
    "\n",
    "regressor = LinearRegression()     # scikit learn LinearRegression 개체 생성\n",
    "regressor.fit(X_train, y_train)    # fit 메서드를 사용해 모델 트레이닝 실행\n"
   ]
  },
  {
   "cell_type": "markdown",
   "metadata": {},
   "source": [
    "## 모델 테스트\n",
    "**Scikitlearn, LinearRegression, predict** 메서드를 사용하여 트레이닝 된 모델이 테스트 데이터의 값을 예측하도록 합니다.\n",
    "\n",
    "테스트 데이터는 X_Test에 저장했습니다.\n",
    "\n",
    "예측 결과를 y_pred에 저장합니다.\n"
   ]
  },
  {
   "cell_type": "code",
   "execution_count": 3,
   "metadata": {},
   "outputs": [],
   "source": [
    "y_pred = regressor.predict(X_test)"
   ]
  },
  {
   "cell_type": "code",
   "execution_count": 4,
   "metadata": {},
   "outputs": [
    {
     "output_type": "execute_result",
     "data": {
      "text/plain": [
       "array([[3.47739078],\n",
       "       [5.89055919],\n",
       "       [4.33288464],\n",
       "       ...,\n",
       "       [5.84678979],\n",
       "       [6.05195889],\n",
       "       [5.66255414]])"
      ]
     },
     "metadata": {},
     "execution_count": 4
    }
   ],
   "source": [
    "y_pred"
   ]
  },
  {
   "cell_type": "markdown",
   "metadata": {},
   "source": [
    "데이터를 트레이닝 및 테스트 데이터셋으로 분할 할 때, DataFrame y_test에 테스트 데이터의 각 row에 대한 실제 label 값을 저장했습니다.\n",
    "\n",
    "y_pred의 값을 y_test의 값과 비교하면 mdoel이 도착 지연을 얼마나 정확하게 예측했는지 알 수 있습니다.\n",
    "\n"
   ]
  },
  {
   "cell_type": "code",
   "execution_count": 5,
   "metadata": {},
   "outputs": [
    {
     "output_type": "execute_result",
     "data": {
      "text/plain": [
       "        ARR_DELAY\n",
       "291483       -5.0\n",
       "98997       -12.0\n",
       "23454        -9.0\n",
       "110802      -14.0\n",
       "49449       -20.0\n",
       "...           ...\n",
       "209898      -20.0\n",
       "22210        -9.0\n",
       "165727       -6.0\n",
       "260838      -33.0\n",
       "192546        0.0\n",
       "\n",
       "[88750 rows x 1 columns]"
      ],
      "text/html": "<div>\n<style scoped>\n    .dataframe tbody tr th:only-of-type {\n        vertical-align: middle;\n    }\n\n    .dataframe tbody tr th {\n        vertical-align: top;\n    }\n\n    .dataframe thead th {\n        text-align: right;\n    }\n</style>\n<table border=\"1\" class=\"dataframe\">\n  <thead>\n    <tr style=\"text-align: right;\">\n      <th></th>\n      <th>ARR_DELAY</th>\n    </tr>\n  </thead>\n  <tbody>\n    <tr>\n      <th>291483</th>\n      <td>-5.0</td>\n    </tr>\n    <tr>\n      <th>98997</th>\n      <td>-12.0</td>\n    </tr>\n    <tr>\n      <th>23454</th>\n      <td>-9.0</td>\n    </tr>\n    <tr>\n      <th>110802</th>\n      <td>-14.0</td>\n    </tr>\n    <tr>\n      <th>49449</th>\n      <td>-20.0</td>\n    </tr>\n    <tr>\n      <th>...</th>\n      <td>...</td>\n    </tr>\n    <tr>\n      <th>209898</th>\n      <td>-20.0</td>\n    </tr>\n    <tr>\n      <th>22210</th>\n      <td>-9.0</td>\n    </tr>\n    <tr>\n      <th>165727</th>\n      <td>-6.0</td>\n    </tr>\n    <tr>\n      <th>260838</th>\n      <td>-33.0</td>\n    </tr>\n    <tr>\n      <th>192546</th>\n      <td>0.0</td>\n    </tr>\n  </tbody>\n</table>\n<p>88750 rows × 1 columns</p>\n</div>"
     },
     "metadata": {},
     "execution_count": 5
    }
   ],
   "source": [
    "y_test"
   ]
  },
  {
   "cell_type": "code",
   "execution_count": null,
   "metadata": {},
   "outputs": [],
   "source": []
  }
 ],
 "metadata": {
  "kernelspec": {
   "display_name": "Python 3",
   "language": "python",
   "name": "python3"
  },
  "language_info": {
   "codemirror_mode": {
    "name": "ipython",
    "version": 3
   },
   "file_extension": ".py",
   "mimetype": "text/x-python",
   "name": "python",
   "nbconvert_exporter": "python",
   "pygments_lexer": "ipython3",
   "version": "3.7.3-final"
  }
 },
 "nbformat": 4,
 "nbformat_minor": 2
}