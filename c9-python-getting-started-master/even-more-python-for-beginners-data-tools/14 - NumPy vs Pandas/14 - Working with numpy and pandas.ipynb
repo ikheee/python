{
 "cells": [
  {
   "cell_type": "markdown",
   "metadata": {},
   "source": [
    "# numpy array에서 pandas DataFrames로 데이터 옮기기\n",
    "지난 notebook에서 머신러닝 모델을 트레이닝하고 실제 label 결과와 predict 된 결과를 비교했습니다.\n",
    "\n",
    "아마도, 일부 불분명한 부분은 이 작업을 수행했을 때 **numpy array**와 **pandas DataFrame**이라는 두 개의 다른 객체로 작업했던 부분일 것입니다."
   ]
  },
  {
   "cell_type": "markdown",
   "metadata": {},
   "source": [
    "더 자세히 알아보기 위해 이전 notebook의 코드를 다시 실행해 트레이닝된 모델을 만들고 테스트 데이터에 대한 예측 값을 가져 오겠습니다."
   ]
  },
  {
   "cell_type": "code",
   "execution_count": 2,
   "metadata": {},
   "outputs": [],
   "source": [
    "import pandas as pd\n",
    "from sklearn.model_selection import train_test_split\n",
    "from sklearn.linear_model import LinearRegression"
   ]
  },
  {
   "cell_type": "code",
   "execution_count": 3,
   "metadata": {},
   "outputs": [],
   "source": [
    "# CSV 파일에서 데이터를 로드\n",
    "delays_df = pd.read_csv('Lots_of_flight_data.csv') \n",
    "\n",
    "# null값을 제거 - null값이 있으면 트레이닝 과정에서 문제를 유발할 수 있습니다.\n",
    "delays_df.dropna(inplace=True)\n",
    "\n",
    "# Feature column들을 X DataFrame으로 이동\n",
    "X = delays_df.loc[:,['DISTANCE', 'CRS_ELAPSED_TIME']]\n",
    "\n",
    "# Labe column을 y DataFrame으로 이동\n",
    "y = delays_df.loc[:,['ARR_DELAY']] \n",
    "\n",
    "# 데이터를 트레이닝 데이터셋과 테스트 데이터셋으로 분리 \n",
    "X_train, X_test, y_train, y_test = train_test_split(\n",
    "                                                    X, \n",
    "                                                    y, \n",
    "                                                    test_size=0.3, \n",
    "                                                    random_state=42\n",
    "                                                   )\n",
    "\n",
    "regressor = LinearRegression()     # scikit learn LinearRegression 개체 생성\n",
    "regressor.fit(X_train, y_train)    # fit 메서드를 사용해 모델 트레이닝 실행\n",
    "\n",
    "y_pred = regressor.predict(X_test)"
   ]
  },
  {
   "cell_type": "markdown",
   "metadata": {},
   "source": [
    "마지막 노트북에서 predict(예측된) 값의 내용을 y_pred에 로드하고, 실제(label) 값을 y_test에 로드 할 때 출력이 다르게 표시되는 것을 확인했을 수 있습니다.\n"
   ]
  },
  {
   "cell_type": "code",
   "execution_count": 4,
   "metadata": {},
   "outputs": [
    {
     "output_type": "execute_result",
     "data": {
      "text/plain": [
       "array([[3.47739078],\n",
       "       [5.89055919],\n",
       "       [4.33288464],\n",
       "       ...,\n",
       "       [5.84678979],\n",
       "       [6.05195889],\n",
       "       [5.66255414]])"
      ]
     },
     "metadata": {},
     "execution_count": 4
    }
   ],
   "source": [
    "y_pred"
   ]
  },
  {
   "cell_type": "code",
   "execution_count": 5,
   "metadata": {},
   "outputs": [
    {
     "output_type": "execute_result",
     "data": {
      "text/plain": [
       "        ARR_DELAY\n",
       "291483       -5.0\n",
       "98997       -12.0\n",
       "23454        -9.0\n",
       "110802      -14.0\n",
       "49449       -20.0\n",
       "...           ...\n",
       "209898      -20.0\n",
       "22210        -9.0\n",
       "165727       -6.0\n",
       "260838      -33.0\n",
       "192546        0.0\n",
       "\n",
       "[88750 rows x 1 columns]"
      ],
      "text/html": "<div>\n<style scoped>\n    .dataframe tbody tr th:only-of-type {\n        vertical-align: middle;\n    }\n\n    .dataframe tbody tr th {\n        vertical-align: top;\n    }\n\n    .dataframe thead th {\n        text-align: right;\n    }\n</style>\n<table border=\"1\" class=\"dataframe\">\n  <thead>\n    <tr style=\"text-align: right;\">\n      <th></th>\n      <th>ARR_DELAY</th>\n    </tr>\n  </thead>\n  <tbody>\n    <tr>\n      <th>291483</th>\n      <td>-5.0</td>\n    </tr>\n    <tr>\n      <th>98997</th>\n      <td>-12.0</td>\n    </tr>\n    <tr>\n      <th>23454</th>\n      <td>-9.0</td>\n    </tr>\n    <tr>\n      <th>110802</th>\n      <td>-14.0</td>\n    </tr>\n    <tr>\n      <th>49449</th>\n      <td>-20.0</td>\n    </tr>\n    <tr>\n      <th>...</th>\n      <td>...</td>\n    </tr>\n    <tr>\n      <th>209898</th>\n      <td>-20.0</td>\n    </tr>\n    <tr>\n      <th>22210</th>\n      <td>-9.0</td>\n    </tr>\n    <tr>\n      <th>165727</th>\n      <td>-6.0</td>\n    </tr>\n    <tr>\n      <th>260838</th>\n      <td>-33.0</td>\n    </tr>\n    <tr>\n      <th>192546</th>\n      <td>0.0</td>\n    </tr>\n  </tbody>\n</table>\n<p>88750 rows × 1 columns</p>\n</div>"
     },
     "metadata": {},
     "execution_count": 5
    }
   ],
   "source": [
    "y_test"
   ]
  },
  {
   "cell_type": "markdown",
   "metadata": {},
   "source": [
    "**type()**을 사용하여 객체의 데이터 유형을 확인할 수 있습니다.\n"
   ]
  },
  {
   "cell_type": "code",
   "execution_count": 6,
   "metadata": {},
   "outputs": [
    {
     "output_type": "execute_result",
     "data": {
      "text/plain": [
       "numpy.ndarray"
      ]
     },
     "metadata": {},
     "execution_count": 6
    }
   ],
   "source": [
    "type(y_pred)"
   ]
  },
  {
   "cell_type": "code",
   "execution_count": 7,
   "metadata": {},
   "outputs": [
    {
     "output_type": "execute_result",
     "data": {
      "text/plain": [
       "pandas.core.frame.DataFrame"
      ]
     },
     "metadata": {},
     "execution_count": 7
    }
   ],
   "source": [
    "type(y_test)"
   ]
  },
  {
   "cell_type": "markdown",
   "metadata": {},
   "source": [
    "* **y_pred**는 numpy array입니다.\n",
    "* **y_test**는 pandas DataFrame입니다.\n",
    "\n",
    "**y_pred**에서 **head** 메서드를 사용하는 경우에도 이 차이를 확인할 수 있습니다.\n",
    "\n",
    "**head**는 DataFrame 클래스의 메서드이고, numpy 배열의 메서드가 아니므로 에러가 리턴됩니다.\n"
   ]
  },
  {
   "cell_type": "code",
   "execution_count": 15,
   "metadata": {},
   "outputs": [
    {
     "output_type": "error",
     "ename": "AttributeError",
     "evalue": "'numpy.ndarray' object has no attribute 'head'",
     "traceback": [
      "\u001b[0;31m---------------------------------------------------------------------------\u001b[0m",
      "\u001b[0;31mAttributeError\u001b[0m                            Traceback (most recent call last)",
      "\u001b[0;32m<ipython-input-15-05146ec42336>\u001b[0m in \u001b[0;36m<module>\u001b[0;34m\u001b[0m\n\u001b[0;32m----> 1\u001b[0;31m \u001b[0my_pred\u001b[0m\u001b[0;34m.\u001b[0m\u001b[0mhead\u001b[0m\u001b[0;34m(\u001b[0m\u001b[0;34m)\u001b[0m\u001b[0;34m\u001b[0m\u001b[0;34m\u001b[0m\u001b[0m\n\u001b[0m",
      "\u001b[0;31mAttributeError\u001b[0m: 'numpy.ndarray' object has no attribute 'head'"
     ]
    }
   ],
   "source": [
    "y_pred.head()"
   ]
  },
  {
   "cell_type": "markdown",
   "metadata": {},
   "source": [
    "1 차원 numpy array는 pandas의 series와 유사합니다.\n"
   ]
  },
  {
   "cell_type": "code",
   "execution_count": 10,
   "metadata": {},
   "outputs": [
    {
     "output_type": "stream",
     "name": "stdout",
     "text": [
      "['Pearson' 'Changi' 'Narita']\nNarita\n"
     ]
    }
   ],
   "source": [
    "import numpy as np\n",
    "airports_array = np.array(['Pearson','Changi','Narita'])\n",
    "print(airports_array)\n",
    "print(airports_array[2])"
   ]
  },
  {
   "cell_type": "code",
   "execution_count": 11,
   "metadata": {},
   "outputs": [
    {
     "output_type": "stream",
     "name": "stdout",
     "text": [
      "0    Pearson\n1     Changi\n2     Narita\ndtype: object\nNarita\n"
     ]
    }
   ],
   "source": [
    "airports_series = pd.Series(['Pearson','Changi','Narita'])\n",
    "print(airports_series)\n",
    "print(airports_series[2])"
   ]
  },
  {
   "cell_type": "markdown",
   "metadata": {},
   "source": [
    "2 차원 numpy array는 pandas DataFrame과 유사합니다."
   ]
  },
  {
   "cell_type": "code",
   "execution_count": 12,
   "metadata": {},
   "outputs": [
    {
     "output_type": "stream",
     "name": "stdout",
     "text": [
      "[['YYZ' 'Pearson']\n ['SIN' 'Changi']\n ['NRT' 'Narita']]\nYYZ\n"
     ]
    }
   ],
   "source": [
    "airports_array = np.array([\n",
    "  ['YYZ','Pearson'],\n",
    "  ['SIN','Changi'],\n",
    "  ['NRT','Narita']])\n",
    "print(airports_array)\n",
    "print(airports_array[0,0])"
   ]
  },
  {
   "cell_type": "code",
   "execution_count": 13,
   "metadata": {},
   "outputs": [
    {
     "output_type": "stream",
     "name": "stdout",
     "text": [
      "     0        1\n0  YYZ  Pearson\n1  SIN   Changi\n2  NRT   Narita\nYYZ\n"
     ]
    }
   ],
   "source": [
    "airports_df = pd.DataFrame([['YYZ','Pearson'],['SIN','Changi'],['NRT','Narita']])\n",
    "print(airports_df)\n",
    "print(airports_df.iloc[0,0])"
   ]
  },
  {
   "cell_type": "markdown",
   "metadata": {},
   "source": [
    "DataFrame의 기능이 필요한 경우, 데이터를 numpy 개체에서 pandas 개체로 또는 그 반대로 변환할 수 있습니다.\n",
    "\n",
    "아래 예제처럼, DataFrame 생성자를 사용하여 numpy 배열 *y_pred*의 내용을 *predicted_df*라는 DataFrame으로 로드합니다.\n",
    "\n",
    "바로 이어서, DataFrame 개체의 함수들을 사용할 수 있습니다.\n"
   ]
  },
  {
   "cell_type": "code",
   "execution_count": 14,
   "metadata": {},
   "outputs": [
    {
     "output_type": "execute_result",
     "data": {
      "text/plain": [
       "          0\n",
       "0  3.477391\n",
       "1  5.890559\n",
       "2  4.332885\n",
       "3  3.447476\n",
       "4  5.072394"
      ],
      "text/html": "<div>\n<style scoped>\n    .dataframe tbody tr th:only-of-type {\n        vertical-align: middle;\n    }\n\n    .dataframe tbody tr th {\n        vertical-align: top;\n    }\n\n    .dataframe thead th {\n        text-align: right;\n    }\n</style>\n<table border=\"1\" class=\"dataframe\">\n  <thead>\n    <tr style=\"text-align: right;\">\n      <th></th>\n      <th>0</th>\n    </tr>\n  </thead>\n  <tbody>\n    <tr>\n      <th>0</th>\n      <td>3.477391</td>\n    </tr>\n    <tr>\n      <th>1</th>\n      <td>5.890559</td>\n    </tr>\n    <tr>\n      <th>2</th>\n      <td>4.332885</td>\n    </tr>\n    <tr>\n      <th>3</th>\n      <td>3.447476</td>\n    </tr>\n    <tr>\n      <th>4</th>\n      <td>5.072394</td>\n    </tr>\n  </tbody>\n</table>\n</div>"
     },
     "metadata": {},
     "execution_count": 14
    }
   ],
   "source": [
    "predicted_df = pd.DataFrame(y_pred)\n",
    "predicted_df.head()"
   ]
  },
  {
   "cell_type": "code",
   "execution_count": null,
   "metadata": {},
   "outputs": [],
   "source": []
  }
 ],
 "metadata": {
  "kernelspec": {
   "display_name": "Python 3",
   "language": "python",
   "name": "python3"
  },
  "language_info": {
   "codemirror_mode": {
    "name": "ipython",
    "version": 3
   },
   "file_extension": ".py",
   "mimetype": "text/x-python",
   "name": "python",
   "nbconvert_exporter": "python",
   "pygments_lexer": "ipython3",
   "version": "3.7.3-final"
  }
 },
 "nbformat": 4,
 "nbformat_minor": 2
}