{
 "cells": [
  {
   "cell_type": "markdown",
   "metadata": {},
   "source": [
    "# 학습(training) 및 테스트(test) 데이터 분할\n",
    "\n",
    "머신러닝 모델을 트레이닝 할 때, 데이터를 학습 및 테스트 데이터셋으로 분할해야 할 수 있습니다.\n",
    "\n",
    "이 작업을 수행하기 위해 보통 [scikit-learn](https://scikit-learn.org/stable/) 라이브러리를 사용합니다.\n",
    "\n",
    "scikit-learn은 데이터 전처리 및 머신러닝 모델 생성과 같은 Data Science를 위한 오픈 소스 - BSD 라이선스 라이브러리입니다."
   ]
  },
  {
   "cell_type": "markdown",
   "metadata": {},
   "source": [
    "학습 데이터셋과 테스트 데이터셋을 분할하려면 먼저 데이터를 준비해야합니다.\n"
   ]
  },
  {
   "cell_type": "code",
   "execution_count": 1,
   "metadata": {},
   "outputs": [],
   "source": [
    "import pandas as pd"
   ]
  },
  {
   "cell_type": "markdown",
   "metadata": {},
   "source": [
    "항공편 및 항공편 지연에 대한 정보가 포함된 csv 파일을 로드하고, **shape**를 사용하여 DataFrame에 있는 row와 column 수를 확인합니다.\n"
   ]
  },
  {
   "cell_type": "code",
   "execution_count": 2,
   "metadata": {},
   "outputs": [
    {
     "output_type": "execute_result",
     "data": {
      "text/plain": [
       "(300000, 16)"
      ]
     },
     "metadata": {},
     "execution_count": 2
    }
   ],
   "source": [
    "delays_df = pd.read_csv('Lots_of_flight_data.csv')\n",
    "delays_df.shape"
   ]
  },
  {
   "cell_type": "markdown",
   "metadata": {},
   "source": [
    "## 데이터를 feature와 label로 분할\n",
    "\n",
    "모델 트레이닝에 사용할 feature column만 포함하는 X라는 DataFrame을 생성합니다.\n",
    "\n",
    "**참고** 숫자 값만 feature로 사용할 수 있습니다. 숫자가 아닌 값이 있는 경우에는, hot encoding과 같은 다른 기술을 적용하여 모델을 트레이닝하기 전에 숫자 값으로 변환해야합니다. 자세한 내용은 Data Science 과정을 확인하세요.\n"
   ]
  },
  {
   "cell_type": "code",
   "execution_count": 11,
   "metadata": {},
   "outputs": [
    {
     "output_type": "execute_result",
     "data": {
      "text/plain": [
       "   DISTANCE  CRS_ELAPSED_TIME\n",
       "0      1670               225\n",
       "1      1670               225\n",
       "2       580               105\n",
       "3       580               105\n",
       "4       580               100"
      ],
      "text/html": "<div>\n<style scoped>\n    .dataframe tbody tr th:only-of-type {\n        vertical-align: middle;\n    }\n\n    .dataframe tbody tr th {\n        vertical-align: top;\n    }\n\n    .dataframe thead th {\n        text-align: right;\n    }\n</style>\n<table border=\"1\" class=\"dataframe\">\n  <thead>\n    <tr style=\"text-align: right;\">\n      <th></th>\n      <th>DISTANCE</th>\n      <th>CRS_ELAPSED_TIME</th>\n    </tr>\n  </thead>\n  <tbody>\n    <tr>\n      <th>0</th>\n      <td>1670</td>\n      <td>225</td>\n    </tr>\n    <tr>\n      <th>1</th>\n      <td>1670</td>\n      <td>225</td>\n    </tr>\n    <tr>\n      <th>2</th>\n      <td>580</td>\n      <td>105</td>\n    </tr>\n    <tr>\n      <th>3</th>\n      <td>580</td>\n      <td>105</td>\n    </tr>\n    <tr>\n      <th>4</th>\n      <td>580</td>\n      <td>100</td>\n    </tr>\n  </tbody>\n</table>\n</div>"
     },
     "metadata": {},
     "execution_count": 11
    }
   ],
   "source": [
    "X = delays_df.loc[:,['DISTANCE', 'CRS_ELAPSED_TIME']]\n",
    "X.head()"
   ]
  },
  {
   "cell_type": "markdown",
   "metadata": {},
   "source": [
    "모델로 예측하려는 값만 포함된 y라는 DataFrame을 생성합니다.\n",
    "\n",
    "우리는 비행기가 몇 분 늦게(또는 일찍) 도착할지를 예측하려합니다. 이 정보는 ARR_DELAY column에 있습니다.\n",
    "\n"
   ]
  },
  {
   "cell_type": "code",
   "execution_count": 12,
   "metadata": {},
   "outputs": [
    {
     "output_type": "execute_result",
     "data": {
      "text/plain": [
       "   ARR_DELAY\n",
       "0      -17.0\n",
       "1      -25.0\n",
       "2      -13.0\n",
       "3      -12.0\n",
       "4       -7.0"
      ],
      "text/html": "<div>\n<style scoped>\n    .dataframe tbody tr th:only-of-type {\n        vertical-align: middle;\n    }\n\n    .dataframe tbody tr th {\n        vertical-align: top;\n    }\n\n    .dataframe thead th {\n        text-align: right;\n    }\n</style>\n<table border=\"1\" class=\"dataframe\">\n  <thead>\n    <tr style=\"text-align: right;\">\n      <th></th>\n      <th>ARR_DELAY</th>\n    </tr>\n  </thead>\n  <tbody>\n    <tr>\n      <th>0</th>\n      <td>-17.0</td>\n    </tr>\n    <tr>\n      <th>1</th>\n      <td>-25.0</td>\n    </tr>\n    <tr>\n      <th>2</th>\n      <td>-13.0</td>\n    </tr>\n    <tr>\n      <th>3</th>\n      <td>-12.0</td>\n    </tr>\n    <tr>\n      <th>4</th>\n      <td>-7.0</td>\n    </tr>\n  </tbody>\n</table>\n</div>"
     },
     "metadata": {},
     "execution_count": 12
    }
   ],
   "source": [
    "y = delays_df.loc[:,['ARR_DELAY']]\n",
    "y.head()"
   ]
  },
  {
   "cell_type": "markdown",
   "metadata": {},
   "source": [
    "## 학습(training) 및 테스트(test) 데이터 분할\n",
    "\n",
    "**scikitlearn train_test_split**을 사용해 row의 30%를 Test DataFrame으로 분할하고, 나머지 70 %의 row는 모델 트레이닝에 사용할 수 있는 training DataFrame으로 분할합니다.\n",
    "\n",
    "참고 : *random_state* 값을 지정하여 코드를 다시 실행하면, 동일한 row가 DataFrame들로 분할되어 이동됩니다. 이 방법을 이용해 결과를 반복할 수 있습니다.\n"
   ]
  },
  {
   "cell_type": "code",
   "execution_count": 13,
   "metadata": {},
   "outputs": [],
   "source": [
    "from sklearn.model_selection import train_test_split\n",
    "\n",
    "X_train, X_test, y_train, y_test = train_test_split(\n",
    "                                                    X, \n",
    "                                                    y, \n",
    "                                                    test_size=0.3, \n",
    "                                                    random_state=42\n",
    "                                                   )"
   ]
  },
  {
   "cell_type": "markdown",
   "metadata": {},
   "source": [
    "전체 row들의 70%를 포함하는 **X_train** DataFrame이 있습니다.\n",
    "\n",
    "이 DataFrame을 사용하여 모델을 트레이닝합니다.\n"
   ]
  },
  {
   "cell_type": "code",
   "execution_count": 14,
   "metadata": {},
   "outputs": [
    {
     "output_type": "execute_result",
     "data": {
      "text/plain": [
       "(210000, 2)"
      ]
     },
     "metadata": {},
     "execution_count": 14
    }
   ],
   "source": [
    "X_train.shape"
   ]
  },
  {
   "cell_type": "markdown",
   "metadata": {},
   "source": [
    "DataFrame **X_test**에는 전체 row들의 나머지 30%가 포함되어 있습니다.\n",
    "\n",
    "이 DataFrame을 사용하여 트레이닝 완료 된 모델을 테스트해 트레이닝 모델의 정확도(accuracy)를 확인할 수 있습니다.\n"
   ]
  },
  {
   "cell_type": "code",
   "execution_count": 15,
   "metadata": {},
   "outputs": [
    {
     "output_type": "execute_result",
     "data": {
      "text/plain": [
       "(90000, 2)"
      ]
     },
     "metadata": {},
     "execution_count": 15
    }
   ],
   "source": [
    "X_test.shape"
   ]
  },
  {
   "cell_type": "markdown",
   "metadata": {},
   "source": [
    "**X_train**과 **X_test**에는 feature들이 포함되어 있습니다.\n",
    "\n",
    "**DISTANCE** 및 **CRS_ELAPSED_TIME** 두개의 feature들은 항공편이 얼마나 늦게 도착할지 예측하는 데 도움이 될 것으로 예상되는 column들입니다. "
   ]
  },
  {
   "cell_type": "code",
   "execution_count": 8,
   "metadata": {},
   "outputs": [
    {
     "output_type": "execute_result",
     "data": {
      "text/plain": [
       "        DISTANCE  CRS_ELAPSED_TIME\n",
       "186295       237                60\n",
       "127847       411               111\n",
       "274740       342                85\n",
       "74908       1005               164\n",
       "11630        484               100"
      ],
      "text/html": "<div>\n<style scoped>\n    .dataframe tbody tr th:only-of-type {\n        vertical-align: middle;\n    }\n\n    .dataframe tbody tr th {\n        vertical-align: top;\n    }\n\n    .dataframe thead th {\n        text-align: right;\n    }\n</style>\n<table border=\"1\" class=\"dataframe\">\n  <thead>\n    <tr style=\"text-align: right;\">\n      <th></th>\n      <th>DISTANCE</th>\n      <th>CRS_ELAPSED_TIME</th>\n    </tr>\n  </thead>\n  <tbody>\n    <tr>\n      <th>186295</th>\n      <td>237</td>\n      <td>60</td>\n    </tr>\n    <tr>\n      <th>127847</th>\n      <td>411</td>\n      <td>111</td>\n    </tr>\n    <tr>\n      <th>274740</th>\n      <td>342</td>\n      <td>85</td>\n    </tr>\n    <tr>\n      <th>74908</th>\n      <td>1005</td>\n      <td>164</td>\n    </tr>\n    <tr>\n      <th>11630</th>\n      <td>484</td>\n      <td>100</td>\n    </tr>\n  </tbody>\n</table>\n</div>"
     },
     "metadata": {},
     "execution_count": 8
    }
   ],
   "source": [
    "X_train.head()"
   ]
  },
  {
   "cell_type": "markdown",
   "metadata": {
    "scrolled": true
   },
   "source": [
    "DataFrame **y_train**에는 row들의 70 %가 포함되어 있습니다.\n",
    "\n",
    "이 label DataFrame을 사용하여 모델을 학습합니다."
   ]
  },
  {
   "cell_type": "markdown",
   "metadata": {},
   "source": [
    "원본 DataFrame을 유지할 필요가 없다면, DataFrame을 새로 만드는 대신, 기존 DataFrame 내의 row를 삭제하면됩니다.\n",
    "**inplace=*True***는 지정된 DataFrame에서 row를 삭제합니다.\n"
   ]
  },
  {
   "cell_type": "code",
   "execution_count": 9,
   "metadata": {},
   "outputs": [
    {
     "output_type": "execute_result",
     "data": {
      "text/plain": [
       "(210000, 1)"
      ]
     },
     "metadata": {},
     "execution_count": 9
    }
   ],
   "source": [
    "y_train.shape"
   ]
  },
  {
   "cell_type": "markdown",
   "metadata": {},
   "source": [
    "DataFrame **y_test**에는 row들의 나머지 30 %가 포함됩니다.\n",
    "이 DataFrame을 사용하여 트레이닝 된 모델을 테스트하면, 모델의 정확도(accuracy)를 확인할 수 있습니다.\n"
   ]
  },
  {
   "cell_type": "code",
   "execution_count": 28,
   "metadata": {},
   "outputs": [
    {
     "data": {
      "text/plain": [
       "(90000, 1)"
      ]
     },
     "execution_count": 28,
     "metadata": {},
     "output_type": "execute_result"
    }
   ],
   "source": [
    "y_test.shape"
   ]
  },
  {
   "cell_type": "markdown",
   "metadata": {},
   "source": [
    "**y_train** 및 **y_test**에는 라벨값(label)이 포함되어있습니다.\n",
    "\n",
    "이 label feature(**ARR_DELAY**)로 학습 된 모델에 대해 예측을 실행합니다.\n",
    "\n",
    "**참고:** ARR_DELAY 값이 음수이면 항공편이 일찍 도착했음을 나타냅니다.\n"
   ]
  },
  {
   "cell_type": "code",
   "execution_count": 10,
   "metadata": {},
   "outputs": [
    {
     "output_type": "execute_result",
     "data": {
      "text/plain": [
       "        ARR_DELAY\n",
       "186295       -7.0\n",
       "127847      -16.0\n",
       "274740      -10.0\n",
       "74908       -19.0\n",
       "11630       -13.0"
      ],
      "text/html": "<div>\n<style scoped>\n    .dataframe tbody tr th:only-of-type {\n        vertical-align: middle;\n    }\n\n    .dataframe tbody tr th {\n        vertical-align: top;\n    }\n\n    .dataframe thead th {\n        text-align: right;\n    }\n</style>\n<table border=\"1\" class=\"dataframe\">\n  <thead>\n    <tr style=\"text-align: right;\">\n      <th></th>\n      <th>ARR_DELAY</th>\n    </tr>\n  </thead>\n  <tbody>\n    <tr>\n      <th>186295</th>\n      <td>-7.0</td>\n    </tr>\n    <tr>\n      <th>127847</th>\n      <td>-16.0</td>\n    </tr>\n    <tr>\n      <th>274740</th>\n      <td>-10.0</td>\n    </tr>\n    <tr>\n      <th>74908</th>\n      <td>-19.0</td>\n    </tr>\n    <tr>\n      <th>11630</th>\n      <td>-13.0</td>\n    </tr>\n  </tbody>\n</table>\n</div>"
     },
     "metadata": {},
     "execution_count": 10
    }
   ],
   "source": [
    "y_train.head()"
   ]
  },
  {
   "cell_type": "code",
   "execution_count": null,
   "metadata": {},
   "outputs": [],
   "source": []
  }
 ],
 "metadata": {
  "kernelspec": {
   "display_name": "Python 3",
   "language": "python",
   "name": "python3"
  },
  "language_info": {
   "codemirror_mode": {
    "name": "ipython",
    "version": 3
   },
   "file_extension": ".py",
   "mimetype": "text/x-python",
   "name": "python",
   "nbconvert_exporter": "python",
   "pygments_lexer": "ipython3",
   "version": "3.7.3-final"
  }
 },
 "nbformat": 4,
 "nbformat_minor": 2
}