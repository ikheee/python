{
 "cells": [
  {
   "cell_type": "markdown",
   "metadata": {},
   "source": [
    "# 선형 회귀(linear regression) 모델 트레이닝\n",
    "데이터를 준비하고 모델 트레이닝을 진행합니다.\n",
    "\n",
    "scikit-learn에는 머신러닝 모델 트레이닝을 위해 호출 할 수있는 여러 라이브러리와 메서드가 있습니다. 이 노트북에서는 **scikit-learn** 라이브러리의 **LinearRegression** 모델을 사용합니다.\n"
   ]
  },
  {
   "cell_type": "markdown",
   "metadata": {},
   "source": [
    "데이터 로드, null 값이 모두 제거, feature 및 label이 별도의 트레이닝 및 테스트 데이터셋으로 분할 된 DataFrame이 필요합니다. 따라서 이전 노트북의 명령을 빠르게 다시 실행하여 시작합니다.\n",
    "\n"
   ]
  },
  {
   "cell_type": "code",
   "execution_count": 3,
   "metadata": {},
   "outputs": [],
   "source": [
    "import pandas as pd\n",
    "from sklearn.model_selection import train_test_split"
   ]
  },
  {
   "cell_type": "code",
   "execution_count": 4,
   "metadata": {},
   "outputs": [],
   "source": [
    "# CSV 파일에서 데이터를 로드\n",
    "delays_df = pd.read_csv('Lots_of_flight_data.csv') \n",
    "\n",
    "# null값을 제거 - null값이 있으면 트레이닝 과정에서 문제를 유발할 수 있습니다.\n",
    "delays_df.dropna(inplace=True)\n",
    "\n",
    "# Feature column들을 X DataFrame으로 이동\n",
    "X = delays_df.loc[:,['DISTANCE', 'CRS_ELAPSED_TIME']]\n",
    "\n",
    "# Labe column을 y DataFrame으로 이동\n",
    "y = delays_df.loc[:,['ARR_DELAY']] \n",
    "\n",
    "# 데이터를 트레이닝 데이터셋과 테스트 데이터셋으로 분리 \n",
    "X_train, X_test, y_train, y_test = train_test_split(\n",
    "                                                    X, \n",
    "                                                    y, \n",
    "                                                    test_size=0.3, \n",
    "                                                    random_state=42\n",
    "                                                   )"
   ]
  },
  {
   "cell_type": "markdown",
   "metadata": {},
   "source": [
    "**Scikit Learn의 Linear Regression** *fit* 메서드를 사용하여 X_train 및 y_train에 저장된 트레이닝 데이터를 기반으로 선형 회귀(linear regression) 모델 트레이닝을 시작합니다."
   ]
  },
  {
   "cell_type": "code",
   "execution_count": 9,
   "metadata": {},
   "outputs": [
    {
     "data": {
      "text/plain": [
       "LinearRegression(copy_X=True, fit_intercept=True, n_jobs=None, normalize=False)"
      ]
     },
     "execution_count": 9,
     "metadata": {},
     "output_type": "execute_result"
    }
   ],
   "source": [
    "from sklearn.linear_model import LinearRegression\n",
    "\n",
    "regressor = LinearRegression()     # scikit learn LinearRegression 개체 생성\n",
    "from sklearn.linear_model import LinearRegression\n",
    "\n",
    "regressor = LinearRegression()     # scikit learn LinearRegression 개체 생성\n",
    "regressor.fit(X_train, y_train)    # fit 메서드를 사용해 모델 트레이닝 실행"
   ]
  },
  {
   "cell_type": "markdown",
   "metadata": {},
   "source": [
    "이제, *regressor* 객체에는 트레이닝된 선형 회귀(Linear Regression) 모델이 포함되어 있습니다."
   ]
  }
 ],
 "metadata": {
  "kernelspec": {
   "display_name": "Python 3",
   "language": "python",
   "name": "python3"
  },
  "language_info": {
   "codemirror_mode": {
    "name": "ipython",
    "version": 3
   },
   "file_extension": ".py",
   "mimetype": "text/x-python",
   "name": "python",
   "nbconvert_exporter": "python",
   "pygments_lexer": "ipython3",
   "version": "3.7.3"
  }
 },
 "nbformat": 4,
 "nbformat_minor": 2
}