{
 "cells": [
  {
   "cell_type": "markdown",
   "metadata": {},
   "source": [
    "# pandas DataFrames으로 CSV 파일 읽고 쓰기\n",
    "\n",
    "CSV 파일의 데이터를 DataFrame로 로드합니다."
   ]
  },
  {
   "cell_type": "code",
   "execution_count": 4,
   "metadata": {},
   "outputs": [],
   "source": [
    "import pandas as pd"
   ]
  },
  {
   "cell_type": "markdown",
   "metadata": {},
   "source": [
    "## CSV 파일을 Pandas DataFrame으로 로드\n",
    "\n",
    "**read_csv**를 사용하면, CSV 파일의 내용을 DataFrame으로 로드할 수 있습니다.\n",
    "\n",
    "airports.csv에 포함된 내용:  \n",
    "\n",
    "Name,City,Country  \n",
    "Seattle-Tacoma,Seattle,USA  \n",
    "Dulles,Washington,USA  \n",
    "Heathrow,London,United Kingdom  \n",
    "Schiphol,Amsterdam,Netherlands  \n",
    "Changi,Singapore,Singapore  \n",
    "Pearson,Toronto,Canada  \n",
    "Narita,Tokyo,Japan"
   ]
  },
  {
   "cell_type": "code",
   "execution_count": 6,
   "metadata": {},
   "outputs": [
    {
     "output_type": "execute_result",
     "data": {
      "text/plain": [
       "             Name        City         Country\n",
       "0  Seattle-Tacoma     Seattle             USA\n",
       "1          Dulles  Washington             USA\n",
       "2        Heathrow      London  United Kingdom\n",
       "3        Schiphol   Amsterdam     Netherlands\n",
       "4          Changi   Singapore       Singapore\n",
       "5         Pearson     Toronto          Canada\n",
       "6          Narita       Tokyo           Japan"
      ],
      "text/html": "<div>\n<style scoped>\n    .dataframe tbody tr th:only-of-type {\n        vertical-align: middle;\n    }\n\n    .dataframe tbody tr th {\n        vertical-align: top;\n    }\n\n    .dataframe thead th {\n        text-align: right;\n    }\n</style>\n<table border=\"1\" class=\"dataframe\">\n  <thead>\n    <tr style=\"text-align: right;\">\n      <th></th>\n      <th>Name</th>\n      <th>City</th>\n      <th>Country</th>\n    </tr>\n  </thead>\n  <tbody>\n    <tr>\n      <th>0</th>\n      <td>Seattle-Tacoma</td>\n      <td>Seattle</td>\n      <td>USA</td>\n    </tr>\n    <tr>\n      <th>1</th>\n      <td>Dulles</td>\n      <td>Washington</td>\n      <td>USA</td>\n    </tr>\n    <tr>\n      <th>2</th>\n      <td>Heathrow</td>\n      <td>London</td>\n      <td>United Kingdom</td>\n    </tr>\n    <tr>\n      <th>3</th>\n      <td>Schiphol</td>\n      <td>Amsterdam</td>\n      <td>Netherlands</td>\n    </tr>\n    <tr>\n      <th>4</th>\n      <td>Changi</td>\n      <td>Singapore</td>\n      <td>Singapore</td>\n    </tr>\n    <tr>\n      <th>5</th>\n      <td>Pearson</td>\n      <td>Toronto</td>\n      <td>Canada</td>\n    </tr>\n    <tr>\n      <th>6</th>\n      <td>Narita</td>\n      <td>Tokyo</td>\n      <td>Japan</td>\n    </tr>\n  </tbody>\n</table>\n</div>"
     },
     "metadata": {},
     "execution_count": 6
    }
   ],
   "source": [
    "airports_df = pd.read_csv('airports.csv')\n",
    "airports_df"
   ]
  },
  {
   "cell_type": "markdown",
   "metadata": {},
   "source": [
    "## 오류가 있는 row 처리\n",
    "기본적으로 콤마(,)가 더 많거나 기타 문제가 있는 row로 인해 오류가 발생합니다.\n",
    "\n",
    "airportsInvalidRows.csv의 Heathrow London row에서 잘못 입력된 콤마를 확인하세요.\n",
    "\n",
    "\n",
    "Name,City,Country  \n",
    "Seattle-Tacoma,Seattle,USA  \n",
    "Dulles,Washington,USA  \n",
    "Heathrow,London,,United Kingdom  \n",
    "Schiphol,Amsterdam,Netherlands  \n",
    "Changi,Singapore,Singapore  \n",
    "Pearson,Toronto,Canada  \n",
    "Narita,Tokyo,Japan  "
   ]
  },
  {
   "cell_type": "code",
   "execution_count": 7,
   "metadata": {},
   "outputs": [
    {
     "output_type": "error",
     "ename": "ParserError",
     "evalue": "Error tokenizing data. C error: Expected 3 fields in line 4, saw 4\n",
     "traceback": [
      "\u001b[0;31m---------------------------------------------------------------------------\u001b[0m",
      "\u001b[0;31mParserError\u001b[0m                               Traceback (most recent call last)",
      "\u001b[0;32m<ipython-input-7-909c407d14bb>\u001b[0m in \u001b[0;36m<module>\u001b[0;34m\u001b[0m\n\u001b[0;32m----> 1\u001b[0;31m \u001b[0mairports_df\u001b[0m \u001b[0;34m=\u001b[0m \u001b[0mpd\u001b[0m\u001b[0;34m.\u001b[0m\u001b[0mread_csv\u001b[0m\u001b[0;34m(\u001b[0m\u001b[0;34m'airportsInvalidRows.csv'\u001b[0m\u001b[0;34m)\u001b[0m\u001b[0;34m\u001b[0m\u001b[0;34m\u001b[0m\u001b[0m\n\u001b[0m\u001b[1;32m      2\u001b[0m \u001b[0mairports_df\u001b[0m\u001b[0;34m\u001b[0m\u001b[0;34m\u001b[0m\u001b[0m\n",
      "\u001b[0;32m~/anaconda3/lib/python3.7/site-packages/pandas/io/parsers.py\u001b[0m in \u001b[0;36mparser_f\u001b[0;34m(filepath_or_buffer, sep, delimiter, header, names, index_col, usecols, squeeze, prefix, mangle_dupe_cols, dtype, engine, converters, true_values, false_values, skipinitialspace, skiprows, skipfooter, nrows, na_values, keep_default_na, na_filter, verbose, skip_blank_lines, parse_dates, infer_datetime_format, keep_date_col, date_parser, dayfirst, cache_dates, iterator, chunksize, compression, thousands, decimal, lineterminator, quotechar, quoting, doublequote, escapechar, comment, encoding, dialect, error_bad_lines, warn_bad_lines, delim_whitespace, low_memory, memory_map, float_precision)\u001b[0m\n\u001b[1;32m    674\u001b[0m         )\n\u001b[1;32m    675\u001b[0m \u001b[0;34m\u001b[0m\u001b[0m\n\u001b[0;32m--> 676\u001b[0;31m         \u001b[0;32mreturn\u001b[0m \u001b[0m_read\u001b[0m\u001b[0;34m(\u001b[0m\u001b[0mfilepath_or_buffer\u001b[0m\u001b[0;34m,\u001b[0m \u001b[0mkwds\u001b[0m\u001b[0;34m)\u001b[0m\u001b[0;34m\u001b[0m\u001b[0;34m\u001b[0m\u001b[0m\n\u001b[0m\u001b[1;32m    677\u001b[0m \u001b[0;34m\u001b[0m\u001b[0m\n\u001b[1;32m    678\u001b[0m     \u001b[0mparser_f\u001b[0m\u001b[0;34m.\u001b[0m\u001b[0m__name__\u001b[0m \u001b[0;34m=\u001b[0m \u001b[0mname\u001b[0m\u001b[0;34m\u001b[0m\u001b[0;34m\u001b[0m\u001b[0m\n",
      "\u001b[0;32m~/anaconda3/lib/python3.7/site-packages/pandas/io/parsers.py\u001b[0m in \u001b[0;36m_read\u001b[0;34m(filepath_or_buffer, kwds)\u001b[0m\n\u001b[1;32m    452\u001b[0m \u001b[0;34m\u001b[0m\u001b[0m\n\u001b[1;32m    453\u001b[0m     \u001b[0;32mtry\u001b[0m\u001b[0;34m:\u001b[0m\u001b[0;34m\u001b[0m\u001b[0;34m\u001b[0m\u001b[0m\n\u001b[0;32m--> 454\u001b[0;31m         \u001b[0mdata\u001b[0m \u001b[0;34m=\u001b[0m \u001b[0mparser\u001b[0m\u001b[0;34m.\u001b[0m\u001b[0mread\u001b[0m\u001b[0;34m(\u001b[0m\u001b[0mnrows\u001b[0m\u001b[0;34m)\u001b[0m\u001b[0;34m\u001b[0m\u001b[0;34m\u001b[0m\u001b[0m\n\u001b[0m\u001b[1;32m    455\u001b[0m     \u001b[0;32mfinally\u001b[0m\u001b[0;34m:\u001b[0m\u001b[0;34m\u001b[0m\u001b[0;34m\u001b[0m\u001b[0m\n\u001b[1;32m    456\u001b[0m         \u001b[0mparser\u001b[0m\u001b[0;34m.\u001b[0m\u001b[0mclose\u001b[0m\u001b[0;34m(\u001b[0m\u001b[0;34m)\u001b[0m\u001b[0;34m\u001b[0m\u001b[0;34m\u001b[0m\u001b[0m\n",
      "\u001b[0;32m~/anaconda3/lib/python3.7/site-packages/pandas/io/parsers.py\u001b[0m in \u001b[0;36mread\u001b[0;34m(self, nrows)\u001b[0m\n\u001b[1;32m   1131\u001b[0m     \u001b[0;32mdef\u001b[0m \u001b[0mread\u001b[0m\u001b[0;34m(\u001b[0m\u001b[0mself\u001b[0m\u001b[0;34m,\u001b[0m \u001b[0mnrows\u001b[0m\u001b[0;34m=\u001b[0m\u001b[0;32mNone\u001b[0m\u001b[0;34m)\u001b[0m\u001b[0;34m:\u001b[0m\u001b[0;34m\u001b[0m\u001b[0;34m\u001b[0m\u001b[0m\n\u001b[1;32m   1132\u001b[0m         \u001b[0mnrows\u001b[0m \u001b[0;34m=\u001b[0m \u001b[0m_validate_integer\u001b[0m\u001b[0;34m(\u001b[0m\u001b[0;34m\"nrows\"\u001b[0m\u001b[0;34m,\u001b[0m \u001b[0mnrows\u001b[0m\u001b[0;34m)\u001b[0m\u001b[0;34m\u001b[0m\u001b[0;34m\u001b[0m\u001b[0m\n\u001b[0;32m-> 1133\u001b[0;31m         \u001b[0mret\u001b[0m \u001b[0;34m=\u001b[0m \u001b[0mself\u001b[0m\u001b[0;34m.\u001b[0m\u001b[0m_engine\u001b[0m\u001b[0;34m.\u001b[0m\u001b[0mread\u001b[0m\u001b[0;34m(\u001b[0m\u001b[0mnrows\u001b[0m\u001b[0;34m)\u001b[0m\u001b[0;34m\u001b[0m\u001b[0;34m\u001b[0m\u001b[0m\n\u001b[0m\u001b[1;32m   1134\u001b[0m \u001b[0;34m\u001b[0m\u001b[0m\n\u001b[1;32m   1135\u001b[0m         \u001b[0;31m# May alter columns / col_dict\u001b[0m\u001b[0;34m\u001b[0m\u001b[0;34m\u001b[0m\u001b[0;34m\u001b[0m\u001b[0m\n",
      "\u001b[0;32m~/anaconda3/lib/python3.7/site-packages/pandas/io/parsers.py\u001b[0m in \u001b[0;36mread\u001b[0;34m(self, nrows)\u001b[0m\n\u001b[1;32m   2035\u001b[0m     \u001b[0;32mdef\u001b[0m \u001b[0mread\u001b[0m\u001b[0;34m(\u001b[0m\u001b[0mself\u001b[0m\u001b[0;34m,\u001b[0m \u001b[0mnrows\u001b[0m\u001b[0;34m=\u001b[0m\u001b[0;32mNone\u001b[0m\u001b[0;34m)\u001b[0m\u001b[0;34m:\u001b[0m\u001b[0;34m\u001b[0m\u001b[0;34m\u001b[0m\u001b[0m\n\u001b[1;32m   2036\u001b[0m         \u001b[0;32mtry\u001b[0m\u001b[0;34m:\u001b[0m\u001b[0;34m\u001b[0m\u001b[0;34m\u001b[0m\u001b[0m\n\u001b[0;32m-> 2037\u001b[0;31m             \u001b[0mdata\u001b[0m \u001b[0;34m=\u001b[0m \u001b[0mself\u001b[0m\u001b[0;34m.\u001b[0m\u001b[0m_reader\u001b[0m\u001b[0;34m.\u001b[0m\u001b[0mread\u001b[0m\u001b[0;34m(\u001b[0m\u001b[0mnrows\u001b[0m\u001b[0;34m)\u001b[0m\u001b[0;34m\u001b[0m\u001b[0;34m\u001b[0m\u001b[0m\n\u001b[0m\u001b[1;32m   2038\u001b[0m         \u001b[0;32mexcept\u001b[0m \u001b[0mStopIteration\u001b[0m\u001b[0;34m:\u001b[0m\u001b[0;34m\u001b[0m\u001b[0;34m\u001b[0m\u001b[0m\n\u001b[1;32m   2039\u001b[0m             \u001b[0;32mif\u001b[0m \u001b[0mself\u001b[0m\u001b[0;34m.\u001b[0m\u001b[0m_first_chunk\u001b[0m\u001b[0;34m:\u001b[0m\u001b[0;34m\u001b[0m\u001b[0;34m\u001b[0m\u001b[0m\n",
      "\u001b[0;32mpandas/_libs/parsers.pyx\u001b[0m in \u001b[0;36mpandas._libs.parsers.TextReader.read\u001b[0;34m()\u001b[0m\n",
      "\u001b[0;32mpandas/_libs/parsers.pyx\u001b[0m in \u001b[0;36mpandas._libs.parsers.TextReader._read_low_memory\u001b[0;34m()\u001b[0m\n",
      "\u001b[0;32mpandas/_libs/parsers.pyx\u001b[0m in \u001b[0;36mpandas._libs.parsers.TextReader._read_rows\u001b[0;34m()\u001b[0m\n",
      "\u001b[0;32mpandas/_libs/parsers.pyx\u001b[0m in \u001b[0;36mpandas._libs.parsers.TextReader._tokenize_rows\u001b[0;34m()\u001b[0m\n",
      "\u001b[0;32mpandas/_libs/parsers.pyx\u001b[0m in \u001b[0;36mpandas._libs.parsers.raise_parser_error\u001b[0;34m()\u001b[0m\n",
      "\u001b[0;31mParserError\u001b[0m: Error tokenizing data. C error: Expected 3 fields in line 4, saw 4\n"
     ]
    }
   ],
   "source": [
    "airports_df = pd.read_csv('airportsInvalidRows.csv')\n",
    "airports_df"
   ]
  },
  {
   "cell_type": "markdown",
   "metadata": {},
   "source": [
    "**error_bad_lines=False**를 지정해 오류를 발생하는 row를 skip 할 수 있습니다."
   ]
  },
  {
   "cell_type": "code",
   "execution_count": 9,
   "metadata": {},
   "outputs": [
    {
     "output_type": "stream",
     "name": "stderr",
     "text": [
      "b'Skipping line 4: expected 3 fields, saw 4\\n'\n"
     ]
    },
    {
     "output_type": "execute_result",
     "data": {
      "text/plain": [
       "             Name        City      Country\n",
       "0  Seattle-Tacoma     Seattle          USA\n",
       "1          Dulles  Washington          USA\n",
       "2        Schiphol   Amsterdam  Netherlands\n",
       "3          Changi   Singapore    Singapore\n",
       "4         Pearson     Toronto       Canada\n",
       "5          Narita       Tokyo        Japan"
      ],
      "text/html": "<div>\n<style scoped>\n    .dataframe tbody tr th:only-of-type {\n        vertical-align: middle;\n    }\n\n    .dataframe tbody tr th {\n        vertical-align: top;\n    }\n\n    .dataframe thead th {\n        text-align: right;\n    }\n</style>\n<table border=\"1\" class=\"dataframe\">\n  <thead>\n    <tr style=\"text-align: right;\">\n      <th></th>\n      <th>Name</th>\n      <th>City</th>\n      <th>Country</th>\n    </tr>\n  </thead>\n  <tbody>\n    <tr>\n      <th>0</th>\n      <td>Seattle-Tacoma</td>\n      <td>Seattle</td>\n      <td>USA</td>\n    </tr>\n    <tr>\n      <th>1</th>\n      <td>Dulles</td>\n      <td>Washington</td>\n      <td>USA</td>\n    </tr>\n    <tr>\n      <th>2</th>\n      <td>Schiphol</td>\n      <td>Amsterdam</td>\n      <td>Netherlands</td>\n    </tr>\n    <tr>\n      <th>3</th>\n      <td>Changi</td>\n      <td>Singapore</td>\n      <td>Singapore</td>\n    </tr>\n    <tr>\n      <th>4</th>\n      <td>Pearson</td>\n      <td>Toronto</td>\n      <td>Canada</td>\n    </tr>\n    <tr>\n      <th>5</th>\n      <td>Narita</td>\n      <td>Tokyo</td>\n      <td>Japan</td>\n    </tr>\n  </tbody>\n</table>\n</div>"
     },
     "metadata": {},
     "execution_count": 9
    }
   ],
   "source": [
    "airports_df = pd.read_csv(\n",
    "                          'airportsInvalidRows.csv', \n",
    "                           error_bad_lines=False\n",
    "                           )\n",
    "airports_df"
   ]
  },
  {
   "cell_type": "markdown",
   "metadata": {},
   "source": [
    "## column header를 포함하고 있지 않은 파일 처리\n",
    "파일의 첫 번째 row에 column header가 없는 경우, 데이터의 첫 번째 row가 header로 처리됩니다.\n",
    "\n",
    "airportsNoHeaderRows.csv에는 공항 데이터가 포함되어 있지만 column header를 지정하는 row가 없습니다.\n",
    "\n",
    "\n",
    "Seattle-Tacoma,Seattle,USA  \n",
    "Dulles,Washington,USA  \n",
    "Heathrow,London,United Kingdom  \n",
    "Schiphol,Amsterdam,Netherlands  \n",
    "Changi,Singapore,Singapore  \n",
    "Pearson,Toronto,Canada  \n",
    "Narita,Tokyo,Japan  "
   ]
  },
  {
   "cell_type": "code",
   "execution_count": 11,
   "metadata": {},
   "outputs": [
    {
     "output_type": "execute_result",
     "data": {
      "text/plain": [
       "  Seattle-Tacoma     Seattle             USA\n",
       "0         Dulles  Washington             USA\n",
       "1       Heathrow      London  United Kingdom\n",
       "2       Schiphol   Amsterdam     Netherlands\n",
       "3         Changi   Singapore       Singapore\n",
       "4        Pearson     Toronto          Canada\n",
       "5         Narita       Tokyo           Japan"
      ],
      "text/html": "<div>\n<style scoped>\n    .dataframe tbody tr th:only-of-type {\n        vertical-align: middle;\n    }\n\n    .dataframe tbody tr th {\n        vertical-align: top;\n    }\n\n    .dataframe thead th {\n        text-align: right;\n    }\n</style>\n<table border=\"1\" class=\"dataframe\">\n  <thead>\n    <tr style=\"text-align: right;\">\n      <th></th>\n      <th>Seattle-Tacoma</th>\n      <th>Seattle</th>\n      <th>USA</th>\n    </tr>\n  </thead>\n  <tbody>\n    <tr>\n      <th>0</th>\n      <td>Dulles</td>\n      <td>Washington</td>\n      <td>USA</td>\n    </tr>\n    <tr>\n      <th>1</th>\n      <td>Heathrow</td>\n      <td>London</td>\n      <td>United Kingdom</td>\n    </tr>\n    <tr>\n      <th>2</th>\n      <td>Schiphol</td>\n      <td>Amsterdam</td>\n      <td>Netherlands</td>\n    </tr>\n    <tr>\n      <th>3</th>\n      <td>Changi</td>\n      <td>Singapore</td>\n      <td>Singapore</td>\n    </tr>\n    <tr>\n      <th>4</th>\n      <td>Pearson</td>\n      <td>Toronto</td>\n      <td>Canada</td>\n    </tr>\n    <tr>\n      <th>5</th>\n      <td>Narita</td>\n      <td>Tokyo</td>\n      <td>Japan</td>\n    </tr>\n  </tbody>\n</table>\n</div>"
     },
     "metadata": {},
     "execution_count": 11
    }
   ],
   "source": [
    "airports_df = pd.read_csv('airportsNoHeaderRows.csv')\n",
    "airports_df"
   ]
  },
  {
   "cell_type": "markdown",
   "metadata": {},
   "source": [
    "header row가 없는 경우 **header=None**을 지정하여, 데이터의 첫 번째 row가 header row로 처리되지 않도록 합니다.\n"
   ]
  },
  {
   "cell_type": "code",
   "execution_count": 12,
   "metadata": {},
   "outputs": [
    {
     "output_type": "execute_result",
     "data": {
      "text/plain": [
       "                0           1               2\n",
       "0  Seattle-Tacoma     Seattle             USA\n",
       "1          Dulles  Washington             USA\n",
       "2        Heathrow      London  United Kingdom\n",
       "3        Schiphol   Amsterdam     Netherlands\n",
       "4          Changi   Singapore       Singapore\n",
       "5         Pearson     Toronto          Canada\n",
       "6          Narita       Tokyo           Japan"
      ],
      "text/html": "<div>\n<style scoped>\n    .dataframe tbody tr th:only-of-type {\n        vertical-align: middle;\n    }\n\n    .dataframe tbody tr th {\n        vertical-align: top;\n    }\n\n    .dataframe thead th {\n        text-align: right;\n    }\n</style>\n<table border=\"1\" class=\"dataframe\">\n  <thead>\n    <tr style=\"text-align: right;\">\n      <th></th>\n      <th>0</th>\n      <th>1</th>\n      <th>2</th>\n    </tr>\n  </thead>\n  <tbody>\n    <tr>\n      <th>0</th>\n      <td>Seattle-Tacoma</td>\n      <td>Seattle</td>\n      <td>USA</td>\n    </tr>\n    <tr>\n      <th>1</th>\n      <td>Dulles</td>\n      <td>Washington</td>\n      <td>USA</td>\n    </tr>\n    <tr>\n      <th>2</th>\n      <td>Heathrow</td>\n      <td>London</td>\n      <td>United Kingdom</td>\n    </tr>\n    <tr>\n      <th>3</th>\n      <td>Schiphol</td>\n      <td>Amsterdam</td>\n      <td>Netherlands</td>\n    </tr>\n    <tr>\n      <th>4</th>\n      <td>Changi</td>\n      <td>Singapore</td>\n      <td>Singapore</td>\n    </tr>\n    <tr>\n      <th>5</th>\n      <td>Pearson</td>\n      <td>Toronto</td>\n      <td>Canada</td>\n    </tr>\n    <tr>\n      <th>6</th>\n      <td>Narita</td>\n      <td>Tokyo</td>\n      <td>Japan</td>\n    </tr>\n  </tbody>\n</table>\n</div>"
     },
     "metadata": {},
     "execution_count": 12
    }
   ],
   "source": [
    "airports_df = pd.read_csv(\n",
    "                          'airportsNoHeaderRows.csv', \n",
    "                           header=None\n",
    "                           )\n",
    "airports_df"
   ]
  },
  {
   "cell_type": "markdown",
   "metadata": {},
   "source": [
    "header row가 없는 경우에는 **names** 파라미터를 사용하여, 데이터가 로드 될 때 column 이름을 지정할 수 있습니다.\n"
   ]
  },
  {
   "cell_type": "code",
   "execution_count": 13,
   "metadata": {},
   "outputs": [
    {
     "output_type": "execute_result",
     "data": {
      "text/plain": [
       "             Name        City         Country\n",
       "0  Seattle-Tacoma     Seattle             USA\n",
       "1          Dulles  Washington             USA\n",
       "2        Heathrow      London  United Kingdom\n",
       "3        Schiphol   Amsterdam     Netherlands\n",
       "4          Changi   Singapore       Singapore\n",
       "5         Pearson     Toronto          Canada\n",
       "6          Narita       Tokyo           Japan"
      ],
      "text/html": "<div>\n<style scoped>\n    .dataframe tbody tr th:only-of-type {\n        vertical-align: middle;\n    }\n\n    .dataframe tbody tr th {\n        vertical-align: top;\n    }\n\n    .dataframe thead th {\n        text-align: right;\n    }\n</style>\n<table border=\"1\" class=\"dataframe\">\n  <thead>\n    <tr style=\"text-align: right;\">\n      <th></th>\n      <th>Name</th>\n      <th>City</th>\n      <th>Country</th>\n    </tr>\n  </thead>\n  <tbody>\n    <tr>\n      <th>0</th>\n      <td>Seattle-Tacoma</td>\n      <td>Seattle</td>\n      <td>USA</td>\n    </tr>\n    <tr>\n      <th>1</th>\n      <td>Dulles</td>\n      <td>Washington</td>\n      <td>USA</td>\n    </tr>\n    <tr>\n      <th>2</th>\n      <td>Heathrow</td>\n      <td>London</td>\n      <td>United Kingdom</td>\n    </tr>\n    <tr>\n      <th>3</th>\n      <td>Schiphol</td>\n      <td>Amsterdam</td>\n      <td>Netherlands</td>\n    </tr>\n    <tr>\n      <th>4</th>\n      <td>Changi</td>\n      <td>Singapore</td>\n      <td>Singapore</td>\n    </tr>\n    <tr>\n      <th>5</th>\n      <td>Pearson</td>\n      <td>Toronto</td>\n      <td>Canada</td>\n    </tr>\n    <tr>\n      <th>6</th>\n      <td>Narita</td>\n      <td>Tokyo</td>\n      <td>Japan</td>\n    </tr>\n  </tbody>\n</table>\n</div>"
     },
     "metadata": {},
     "execution_count": 13
    }
   ],
   "source": [
    "airports_df = pd.read_csv(\n",
    "                          'airportsNoHeaderRows.csv', \n",
    "                          header=None, \n",
    "                          names=['Name', 'City', 'Country']\n",
    "                          )\n",
    "airports_df"
   ]
  },
  {
   "cell_type": "markdown",
   "metadata": {},
   "source": [
    "## 데이터 파일의 누락된 값(missing value)\n",
    "누락 된 값은 DataFrame에 **NaN**으로 표시됩니다.\n",
    "\n",
    "airportsBlankValues.csv에 Schiphol 공항으로 표시된 도시가 누락되어 있습니다.\n",
    "\n",
    "\n",
    "Name,City,Country  \n",
    "Seattle-Tacoma,Seattle,USA  \n",
    "Dulles,Washington,USA  \n",
    "Heathrow,London,United Kingdom  \n",
    "Schiphol,,Netherlands  \n",
    "Changi,Singapore,Singapore  \n",
    "Pearson,Toronto,Canada  \n",
    "Narita,Tokyo,Japan"
   ]
  },
  {
   "cell_type": "code",
   "execution_count": 14,
   "metadata": {},
   "outputs": [
    {
     "output_type": "execute_result",
     "data": {
      "text/plain": [
       "             Name        City         Country\n",
       "0  Seattle-Tacoma     Seattle             USA\n",
       "1          Dulles  Washington             USA\n",
       "2        Heathrow      London  United Kingdom\n",
       "3        Schiphol         NaN     Netherlands\n",
       "4          Changi   Singapore       Singapore\n",
       "5         Pearson     Toronto          Canada\n",
       "6          Narita       Tokyo           Japan"
      ],
      "text/html": "<div>\n<style scoped>\n    .dataframe tbody tr th:only-of-type {\n        vertical-align: middle;\n    }\n\n    .dataframe tbody tr th {\n        vertical-align: top;\n    }\n\n    .dataframe thead th {\n        text-align: right;\n    }\n</style>\n<table border=\"1\" class=\"dataframe\">\n  <thead>\n    <tr style=\"text-align: right;\">\n      <th></th>\n      <th>Name</th>\n      <th>City</th>\n      <th>Country</th>\n    </tr>\n  </thead>\n  <tbody>\n    <tr>\n      <th>0</th>\n      <td>Seattle-Tacoma</td>\n      <td>Seattle</td>\n      <td>USA</td>\n    </tr>\n    <tr>\n      <th>1</th>\n      <td>Dulles</td>\n      <td>Washington</td>\n      <td>USA</td>\n    </tr>\n    <tr>\n      <th>2</th>\n      <td>Heathrow</td>\n      <td>London</td>\n      <td>United Kingdom</td>\n    </tr>\n    <tr>\n      <th>3</th>\n      <td>Schiphol</td>\n      <td>NaN</td>\n      <td>Netherlands</td>\n    </tr>\n    <tr>\n      <th>4</th>\n      <td>Changi</td>\n      <td>Singapore</td>\n      <td>Singapore</td>\n    </tr>\n    <tr>\n      <th>5</th>\n      <td>Pearson</td>\n      <td>Toronto</td>\n      <td>Canada</td>\n    </tr>\n    <tr>\n      <th>6</th>\n      <td>Narita</td>\n      <td>Tokyo</td>\n      <td>Japan</td>\n    </tr>\n  </tbody>\n</table>\n</div>"
     },
     "metadata": {},
     "execution_count": 14
    }
   ],
   "source": [
    "airports_df = pd.read_csv('airportsBlankValues.csv')\n",
    "airports_df"
   ]
  },
  {
   "cell_type": "markdown",
   "metadata": {},
   "source": [
    "## CSV 파일에 DataFrame 을 쓰기\n",
    "**to_csv**는 pandas DataFrame의 내용을 CSV 파일에 씁니다.\n"
   ]
  },
  {
   "cell_type": "code",
   "execution_count": 15,
   "metadata": {},
   "outputs": [
    {
     "output_type": "execute_result",
     "data": {
      "text/plain": [
       "             Name        City         Country\n",
       "0  Seattle-Tacoma     Seattle             USA\n",
       "1          Dulles  Washington             USA\n",
       "2        Heathrow      London  United Kingdom\n",
       "3        Schiphol         NaN     Netherlands\n",
       "4          Changi   Singapore       Singapore\n",
       "5         Pearson     Toronto          Canada\n",
       "6          Narita       Tokyo           Japan"
      ],
      "text/html": "<div>\n<style scoped>\n    .dataframe tbody tr th:only-of-type {\n        vertical-align: middle;\n    }\n\n    .dataframe tbody tr th {\n        vertical-align: top;\n    }\n\n    .dataframe thead th {\n        text-align: right;\n    }\n</style>\n<table border=\"1\" class=\"dataframe\">\n  <thead>\n    <tr style=\"text-align: right;\">\n      <th></th>\n      <th>Name</th>\n      <th>City</th>\n      <th>Country</th>\n    </tr>\n  </thead>\n  <tbody>\n    <tr>\n      <th>0</th>\n      <td>Seattle-Tacoma</td>\n      <td>Seattle</td>\n      <td>USA</td>\n    </tr>\n    <tr>\n      <th>1</th>\n      <td>Dulles</td>\n      <td>Washington</td>\n      <td>USA</td>\n    </tr>\n    <tr>\n      <th>2</th>\n      <td>Heathrow</td>\n      <td>London</td>\n      <td>United Kingdom</td>\n    </tr>\n    <tr>\n      <th>3</th>\n      <td>Schiphol</td>\n      <td>NaN</td>\n      <td>Netherlands</td>\n    </tr>\n    <tr>\n      <th>4</th>\n      <td>Changi</td>\n      <td>Singapore</td>\n      <td>Singapore</td>\n    </tr>\n    <tr>\n      <th>5</th>\n      <td>Pearson</td>\n      <td>Toronto</td>\n      <td>Canada</td>\n    </tr>\n    <tr>\n      <th>6</th>\n      <td>Narita</td>\n      <td>Tokyo</td>\n      <td>Japan</td>\n    </tr>\n  </tbody>\n</table>\n</div>"
     },
     "metadata": {},
     "execution_count": 15
    }
   ],
   "source": [
    "airports_df"
   ]
  },
  {
   "cell_type": "code",
   "execution_count": 16,
   "metadata": {},
   "outputs": [],
   "source": [
    "airports_df.to_csv('MyNewCSVFile.csv')"
   ]
  },
  {
   "cell_type": "markdown",
   "metadata": {},
   "source": [
    "색인 column이 csv 파일에 기록됩니다.\n",
    "\n",
    "**index=False**을 지정하면, CSV 파일에 index column을 추가하지 않습니다."
   ]
  },
  {
   "cell_type": "code",
   "execution_count": 17,
   "metadata": {},
   "outputs": [],
   "source": [
    "airports_df.to_csv(\n",
    "                   'MyNewCSVFileNoIndex.csv', \n",
    "                    index=False\n",
    "                    )"
   ]
  },
  {
   "cell_type": "code",
   "execution_count": null,
   "metadata": {},
   "outputs": [],
   "source": []
  }
 ],
 "metadata": {
  "kernelspec": {
   "display_name": "Python 3",
   "language": "python",
   "name": "python3"
  },
  "language_info": {
   "codemirror_mode": {
    "name": "ipython",
    "version": 3
   },
   "file_extension": ".py",
   "mimetype": "text/x-python",
   "name": "python",
   "nbconvert_exporter": "python",
   "pygments_lexer": "ipython3",
   "version": "3.7.3-final"
  }
 },
 "nbformat": 4,
 "nbformat_minor": 2
}